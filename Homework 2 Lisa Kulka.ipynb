{
 "cells": [
  {
   "cell_type": "code",
   "execution_count": 1,
   "id": "c29295d2",
   "metadata": {},
   "outputs": [
    {
     "name": "stdout",
     "output_type": "stream",
     "text": [
      "package 'recommenderlab' successfully unpacked and MD5 sums checked\n",
      "\n",
      "The downloaded binary packages are in\n",
      "\tC:\\Users\\Lisa Kulka\\AppData\\Local\\Temp\\RtmpqwmrGs\\downloaded_packages\n"
     ]
    },
    {
     "name": "stderr",
     "output_type": "stream",
     "text": [
      "Loading required package: Matrix\n",
      "\n",
      "Loading required package: arules\n",
      "\n",
      "\n",
      "Attaching package: 'arules'\n",
      "\n",
      "\n",
      "The following objects are masked from 'package:base':\n",
      "\n",
      "    abbreviate, write\n",
      "\n",
      "\n",
      "Loading required package: proxy\n",
      "\n",
      "\n",
      "Attaching package: 'proxy'\n",
      "\n",
      "\n",
      "The following object is masked from 'package:Matrix':\n",
      "\n",
      "    as.matrix\n",
      "\n",
      "\n",
      "The following objects are masked from 'package:stats':\n",
      "\n",
      "    as.dist, dist\n",
      "\n",
      "\n",
      "The following object is masked from 'package:base':\n",
      "\n",
      "    as.matrix\n",
      "\n",
      "\n",
      "Registered S3 methods overwritten by 'registry':\n",
      "  method               from \n",
      "  print.registry_field proxy\n",
      "  print.registry_entry proxy\n",
      "\n"
     ]
    },
    {
     "name": "stdout",
     "output_type": "stream",
     "text": [
      "package 'tidyr' successfully unpacked and MD5 sums checked\n",
      "\n",
      "The downloaded binary packages are in\n",
      "\tC:\\Users\\Lisa Kulka\\AppData\\Local\\Temp\\RtmpqwmrGs\\downloaded_packages\n",
      "package 'dplyr' successfully unpacked and MD5 sums checked\n",
      "\n",
      "The downloaded binary packages are in\n",
      "\tC:\\Users\\Lisa Kulka\\AppData\\Local\\Temp\\RtmpqwmrGs\\downloaded_packages\n",
      "\n",
      "  There is a binary version available but the source version is later:\n",
      "   binary source needs_compilation\n",
      "DT   0.27   0.28             FALSE\n",
      "\n"
     ]
    },
    {
     "name": "stderr",
     "output_type": "stream",
     "text": [
      "installing the source package 'DT'\n",
      "\n",
      "\n",
      "Warning message:\n",
      "\"package 'datatable' is not available for this version of R\n",
      "\n",
      "A version of this package for your version of R might be available elsewhere,\n",
      "see the ideas at\n",
      "https://cran.r-project.org/doc/manuals/r-patched/R-admin.html#Installing-packages\"\n"
     ]
    }
   ],
   "source": [
    "#Question 1\n",
    "\n",
    "#Installation of all necessary libraries/packages per instructions\n",
    "install.packages(\"recommenderlab\", dependencies = TRUE)\n",
    "library(recommenderlab)\n",
    "data(MovieLense)\n",
    "install.packages(\"tidyr\", dependencies = TRUE)\n",
    "install.packages(\"dplyr\", dependencies = TRUE)\n",
    "\n",
    "#Inclusion of DT library, allowing for the display of data in a tabular format\n",
    "install.packages(\"DT\", dependencies = TRUE)\n",
    "install.packages(\"datatable\")"
   ]
  },
  {
   "cell_type": "code",
   "execution_count": 2,
   "id": "810cf0b4",
   "metadata": {},
   "outputs": [],
   "source": [
    "#Creation of a training data set and test data set\n",
    "library(recommenderlab)\n",
    "data(MovieLense)\n",
    "set.seed(101)\n",
    "which_train <- sample(x = c(TRUE, FALSE), size = nrow(MovieLense), replace = TRUE, \n",
    "    prob = c(0.8, 0.2))\n",
    "recc_data_train <- MovieLense[which_train, ]\n",
    "recc_data_test <- MovieLense[!which_train, ]"
   ]
  },
  {
   "cell_type": "code",
   "execution_count": 3,
   "id": "a15bf850",
   "metadata": {},
   "outputs": [
    {
     "data": {
      "text/plain": [
       "Recommender of type 'UBCF' for 'realRatingMatrix' \n",
       "learned using 764 users."
      ]
     },
     "metadata": {},
     "output_type": "display_data"
    }
   ],
   "source": [
    "#Building of a recommender model using user-based collaborative filtering (UBCF)\n",
    "recc_model2 <- Recommender(data = recc_data_train, method = \"UBCF\", parameter = list(nn = 25, \n",
    "    method = \"Cosine\"))\n",
    "recc_model2"
   ]
  },
  {
   "cell_type": "code",
   "execution_count": 4,
   "id": "0d467ee0",
   "metadata": {},
   "outputs": [
    {
     "data": {
      "text/plain": [
       "Recommendations as 'topNList' with n = 10 for 179 users. "
      ]
     },
     "metadata": {},
     "output_type": "display_data"
    }
   ],
   "source": [
    "#Setting user's number of top recommendations to 10\n",
    "num_rec <- 10 \n",
    "\n",
    "recc_predicted2 <- predict(object = recc_model2, newdata = recc_data_test, n = num_rec)\n",
    "recc_predicted2"
   ]
  },
  {
   "cell_type": "code",
   "execution_count": 5,
   "id": "66fed87a",
   "metadata": {},
   "outputs": [],
   "source": [
    "#Creation of a dataframe to better visualize each user's recommendations\n",
    "#Creation of a vector 'user' that repeats numbers from 1 to the length of 'recc_predicted2@items'\n",
    "#Extraction of the ratings from 'recc_predicted2@ratings' and conversion to a single vector, 'rating', and creation of a new dataframe with three columns ('user', 'rating' and 'index')\n",
    "rec_df <- data.frame(user = sort(rep(1:length(recc_predicted2@items), recc_predicted2@n)), \n",
    "    rating = unlist(recc_predicted2@ratings), index = unlist(recc_predicted2@items))"
   ]
  },
  {
   "cell_type": "code",
   "execution_count": 6,
   "id": "cccdbb82",
   "metadata": {},
   "outputs": [
    {
     "name": "stderr",
     "output_type": "stream",
     "text": [
      "\n",
      "Attaching package: 'dplyr'\n",
      "\n",
      "\n",
      "The following objects are masked from 'package:arules':\n",
      "\n",
      "    intersect, recode, setdiff, setequal, union\n",
      "\n",
      "\n",
      "The following objects are masked from 'package:stats':\n",
      "\n",
      "    filter, lag\n",
      "\n",
      "\n",
      "The following objects are masked from 'package:base':\n",
      "\n",
      "    intersect, setdiff, setequal, union\n",
      "\n",
      "\n",
      "\n",
      "Attaching package: 'data.table'\n",
      "\n",
      "\n",
      "The following objects are masked from 'package:dplyr':\n",
      "\n",
      "    between, first, last\n",
      "\n",
      "\n"
     ]
    },
    {
     "data": {
      "text/html": [
       "<table class=\"dataframe\">\n",
       "<caption>A data.table: 10 × 5</caption>\n",
       "<thead>\n",
       "\t<tr><th scope=col>user</th><th scope=col>rating</th><th scope=col>index</th><th scope=col>title</th><th scope=col>year</th></tr>\n",
       "\t<tr><th scope=col>&lt;int&gt;</th><th scope=col>&lt;dbl&gt;</th><th scope=col>&lt;int&gt;</th><th scope=col>&lt;chr&gt;</th><th scope=col>&lt;dbl&gt;</th></tr>\n",
       "</thead>\n",
       "<tbody>\n",
       "\t<tr><td>1</td><td>5.812889</td><td> 405</td><td>Close Shave, A (1995)                                    </td><td>1996</td></tr>\n",
       "\t<tr><td>1</td><td>5.558120</td><td> 116</td><td>Cold Comfort Farm (1995)                                 </td><td>1996</td></tr>\n",
       "\t<tr><td>1</td><td>5.455556</td><td> 997</td><td>Until the End of the World (Bis ans Ende der Welt) (1991)</td><td>1991</td></tr>\n",
       "\t<tr><td>1</td><td>5.169841</td><td>  89</td><td>Blade Runner (1982)                                      </td><td>1982</td></tr>\n",
       "\t<tr><td>1</td><td>5.169841</td><td> 272</td><td>Heat (1995)                                              </td><td>1995</td></tr>\n",
       "\t<tr><td>1</td><td>5.095556</td><td> 314</td><td>As Good As It Gets (1997)                                </td><td>1997</td></tr>\n",
       "\t<tr><td>1</td><td>5.074603</td><td>1151</td><td>Love! Valour! Compassion! (1997)                         </td><td>1997</td></tr>\n",
       "\t<tr><td>1</td><td>4.981871</td><td>1039</td><td>She's the One (1996)                                     </td><td>1996</td></tr>\n",
       "\t<tr><td>1</td><td>4.886914</td><td> 873</td><td>Soul Food (1997)                                         </td><td>1997</td></tr>\n",
       "\t<tr><td>1</td><td>4.823977</td><td> 304</td><td>Mrs. Brown (Her Majesty, Mrs. Brown) (1997)              </td><td>1997</td></tr>\n",
       "</tbody>\n",
       "</table>\n"
      ],
      "text/latex": [
       "A data.table: 10 × 5\n",
       "\\begin{tabular}{lllll}\n",
       " user & rating & index & title & year\\\\\n",
       " <int> & <dbl> & <int> & <chr> & <dbl>\\\\\n",
       "\\hline\n",
       "\t 1 & 5.812889 &  405 & Close Shave, A (1995)                                     & 1996\\\\\n",
       "\t 1 & 5.558120 &  116 & Cold Comfort Farm (1995)                                  & 1996\\\\\n",
       "\t 1 & 5.455556 &  997 & Until the End of the World (Bis ans Ende der Welt) (1991) & 1991\\\\\n",
       "\t 1 & 5.169841 &   89 & Blade Runner (1982)                                       & 1982\\\\\n",
       "\t 1 & 5.169841 &  272 & Heat (1995)                                               & 1995\\\\\n",
       "\t 1 & 5.095556 &  314 & As Good As It Gets (1997)                                 & 1997\\\\\n",
       "\t 1 & 5.074603 & 1151 & Love! Valour! Compassion! (1997)                          & 1997\\\\\n",
       "\t 1 & 4.981871 & 1039 & She's the One (1996)                                      & 1996\\\\\n",
       "\t 1 & 4.886914 &  873 & Soul Food (1997)                                          & 1997\\\\\n",
       "\t 1 & 4.823977 &  304 & Mrs. Brown (Her Majesty, Mrs. Brown) (1997)               & 1997\\\\\n",
       "\\end{tabular}\n"
      ],
      "text/markdown": [
       "\n",
       "A data.table: 10 × 5\n",
       "\n",
       "| user &lt;int&gt; | rating &lt;dbl&gt; | index &lt;int&gt; | title &lt;chr&gt; | year &lt;dbl&gt; |\n",
       "|---|---|---|---|---|\n",
       "| 1 | 5.812889 |  405 | Close Shave, A (1995)                                     | 1996 |\n",
       "| 1 | 5.558120 |  116 | Cold Comfort Farm (1995)                                  | 1996 |\n",
       "| 1 | 5.455556 |  997 | Until the End of the World (Bis ans Ende der Welt) (1991) | 1991 |\n",
       "| 1 | 5.169841 |   89 | Blade Runner (1982)                                       | 1982 |\n",
       "| 1 | 5.169841 |  272 | Heat (1995)                                               | 1995 |\n",
       "| 1 | 5.095556 |  314 | As Good As It Gets (1997)                                 | 1997 |\n",
       "| 1 | 5.074603 | 1151 | Love! Valour! Compassion! (1997)                          | 1997 |\n",
       "| 1 | 4.981871 | 1039 | She's the One (1996)                                      | 1996 |\n",
       "| 1 | 4.886914 |  873 | Soul Food (1997)                                          | 1997 |\n",
       "| 1 | 4.823977 |  304 | Mrs. Brown (Her Majesty, Mrs. Brown) (1997)               | 1997 |\n",
       "\n"
      ],
      "text/plain": [
       "   user rating   index\n",
       "1  1    5.812889  405 \n",
       "2  1    5.558120  116 \n",
       "3  1    5.455556  997 \n",
       "4  1    5.169841   89 \n",
       "5  1    5.169841  272 \n",
       "6  1    5.095556  314 \n",
       "7  1    5.074603 1151 \n",
       "8  1    4.981871 1039 \n",
       "9  1    4.886914  873 \n",
       "10 1    4.823977  304 \n",
       "   title                                                     year\n",
       "1  Close Shave, A (1995)                                     1996\n",
       "2  Cold Comfort Farm (1995)                                  1996\n",
       "3  Until the End of the World (Bis ans Ende der Welt) (1991) 1991\n",
       "4  Blade Runner (1982)                                       1982\n",
       "5  Heat (1995)                                               1995\n",
       "6  As Good As It Gets (1997)                                 1997\n",
       "7  Love! Valour! Compassion! (1997)                          1997\n",
       "8  She's the One (1996)                                      1996\n",
       "9  Soul Food (1997)                                          1997\n",
       "10 Mrs. Brown (Her Majesty, Mrs. Brown) (1997)               1997"
      ]
     },
     "metadata": {},
     "output_type": "display_data"
    }
   ],
   "source": [
    "library(dplyr)\n",
    "library(data.table)\n",
    "\n",
    "#Demo'ing on three users (first is user 1)\n",
    "rec_df$title <- recc_predicted2@itemLabels[rec_df$index]\n",
    "rec_df$year <- MovieLenseMeta$year[rec_df$index]\n",
    "rec_df <- rec_df %>% group_by(user)\n",
    "data.table(rec_df[rec_df$user %in% (1), ])"
   ]
  },
  {
   "cell_type": "code",
   "execution_count": 7,
   "id": "e07aae9e",
   "metadata": {},
   "outputs": [
    {
     "data": {
      "text/html": [
       "<table class=\"dataframe\">\n",
       "<caption>A data.table: 10 × 5</caption>\n",
       "<thead>\n",
       "\t<tr><th scope=col>user</th><th scope=col>rating</th><th scope=col>index</th><th scope=col>title</th><th scope=col>year</th></tr>\n",
       "\t<tr><th scope=col>&lt;int&gt;</th><th scope=col>&lt;dbl&gt;</th><th scope=col>&lt;int&gt;</th><th scope=col>&lt;chr&gt;</th><th scope=col>&lt;dbl&gt;</th></tr>\n",
       "</thead>\n",
       "<tbody>\n",
       "\t<tr><td>2</td><td>6.536281</td><td>585</td><td>Wild Bunch, The (1969)                                            </td><td>1969</td></tr>\n",
       "\t<tr><td>2</td><td>5.861596</td><td>888</td><td>Sweet Hereafter, The (1997)                                       </td><td>1997</td></tr>\n",
       "\t<tr><td>2</td><td>5.579016</td><td> 59</td><td>Three Colors: Red (1994)                                          </td><td>1994</td></tr>\n",
       "\t<tr><td>2</td><td>5.579016</td><td> 60</td><td>Three Colors: Blue (1993)                                         </td><td>1993</td></tr>\n",
       "\t<tr><td>2</td><td>5.579016</td><td>194</td><td>Sting, The (1973)                                                 </td><td>1973</td></tr>\n",
       "\t<tr><td>2</td><td>5.579016</td><td>996</td><td>Double vie de Veronique, La (Double Life of Veronique, The) (1991)</td><td>1991</td></tr>\n",
       "\t<tr><td>2</td><td>5.536281</td><td>614</td><td>Picnic (1955)                                                     </td><td>1955</td></tr>\n",
       "\t<tr><td>2</td><td>5.536281</td><td>657</td><td>High Noon (1952)                                                  </td><td>1952</td></tr>\n",
       "\t<tr><td>2</td><td>5.526619</td><td> 83</td><td>Much Ado About Nothing (1993)                                     </td><td>1993</td></tr>\n",
       "\t<tr><td>2</td><td>5.526619</td><td>144</td><td>Die Hard (1988)                                                   </td><td>1988</td></tr>\n",
       "</tbody>\n",
       "</table>\n"
      ],
      "text/latex": [
       "A data.table: 10 × 5\n",
       "\\begin{tabular}{lllll}\n",
       " user & rating & index & title & year\\\\\n",
       " <int> & <dbl> & <int> & <chr> & <dbl>\\\\\n",
       "\\hline\n",
       "\t 2 & 6.536281 & 585 & Wild Bunch, The (1969)                                             & 1969\\\\\n",
       "\t 2 & 5.861596 & 888 & Sweet Hereafter, The (1997)                                        & 1997\\\\\n",
       "\t 2 & 5.579016 &  59 & Three Colors: Red (1994)                                           & 1994\\\\\n",
       "\t 2 & 5.579016 &  60 & Three Colors: Blue (1993)                                          & 1993\\\\\n",
       "\t 2 & 5.579016 & 194 & Sting, The (1973)                                                  & 1973\\\\\n",
       "\t 2 & 5.579016 & 996 & Double vie de Veronique, La (Double Life of Veronique, The) (1991) & 1991\\\\\n",
       "\t 2 & 5.536281 & 614 & Picnic (1955)                                                      & 1955\\\\\n",
       "\t 2 & 5.536281 & 657 & High Noon (1952)                                                   & 1952\\\\\n",
       "\t 2 & 5.526619 &  83 & Much Ado About Nothing (1993)                                      & 1993\\\\\n",
       "\t 2 & 5.526619 & 144 & Die Hard (1988)                                                    & 1988\\\\\n",
       "\\end{tabular}\n"
      ],
      "text/markdown": [
       "\n",
       "A data.table: 10 × 5\n",
       "\n",
       "| user &lt;int&gt; | rating &lt;dbl&gt; | index &lt;int&gt; | title &lt;chr&gt; | year &lt;dbl&gt; |\n",
       "|---|---|---|---|---|\n",
       "| 2 | 6.536281 | 585 | Wild Bunch, The (1969)                                             | 1969 |\n",
       "| 2 | 5.861596 | 888 | Sweet Hereafter, The (1997)                                        | 1997 |\n",
       "| 2 | 5.579016 |  59 | Three Colors: Red (1994)                                           | 1994 |\n",
       "| 2 | 5.579016 |  60 | Three Colors: Blue (1993)                                          | 1993 |\n",
       "| 2 | 5.579016 | 194 | Sting, The (1973)                                                  | 1973 |\n",
       "| 2 | 5.579016 | 996 | Double vie de Veronique, La (Double Life of Veronique, The) (1991) | 1991 |\n",
       "| 2 | 5.536281 | 614 | Picnic (1955)                                                      | 1955 |\n",
       "| 2 | 5.536281 | 657 | High Noon (1952)                                                   | 1952 |\n",
       "| 2 | 5.526619 |  83 | Much Ado About Nothing (1993)                                      | 1993 |\n",
       "| 2 | 5.526619 | 144 | Die Hard (1988)                                                    | 1988 |\n",
       "\n"
      ],
      "text/plain": [
       "   user rating   index\n",
       "1  2    6.536281 585  \n",
       "2  2    5.861596 888  \n",
       "3  2    5.579016  59  \n",
       "4  2    5.579016  60  \n",
       "5  2    5.579016 194  \n",
       "6  2    5.579016 996  \n",
       "7  2    5.536281 614  \n",
       "8  2    5.536281 657  \n",
       "9  2    5.526619  83  \n",
       "10 2    5.526619 144  \n",
       "   title                                                              year\n",
       "1  Wild Bunch, The (1969)                                             1969\n",
       "2  Sweet Hereafter, The (1997)                                        1997\n",
       "3  Three Colors: Red (1994)                                           1994\n",
       "4  Three Colors: Blue (1993)                                          1993\n",
       "5  Sting, The (1973)                                                  1973\n",
       "6  Double vie de Veronique, La (Double Life of Veronique, The) (1991) 1991\n",
       "7  Picnic (1955)                                                      1955\n",
       "8  High Noon (1952)                                                   1952\n",
       "9  Much Ado About Nothing (1993)                                      1993\n",
       "10 Die Hard (1988)                                                    1988"
      ]
     },
     "metadata": {},
     "output_type": "display_data"
    }
   ],
   "source": [
    "library(dplyr)\n",
    "library(data.table)\n",
    "\n",
    "#Next is user 2\n",
    "data.table(rec_df[rec_df$user %in% (2), ])"
   ]
  },
  {
   "cell_type": "code",
   "execution_count": 8,
   "id": "14fa4852",
   "metadata": {},
   "outputs": [
    {
     "data": {
      "text/html": [
       "<table class=\"dataframe\">\n",
       "<caption>A data.table: 10 × 5</caption>\n",
       "<thead>\n",
       "\t<tr><th scope=col>user</th><th scope=col>rating</th><th scope=col>index</th><th scope=col>title</th><th scope=col>year</th></tr>\n",
       "\t<tr><th scope=col>&lt;int&gt;</th><th scope=col>&lt;dbl&gt;</th><th scope=col>&lt;int&gt;</th><th scope=col>&lt;chr&gt;</th><th scope=col>&lt;dbl&gt;</th></tr>\n",
       "</thead>\n",
       "<tbody>\n",
       "\t<tr><td>3</td><td>5.135714</td><td>891</td><td>Winter Guest, The (1997)                                   </td><td>1997</td></tr>\n",
       "\t<tr><td>3</td><td>4.740260</td><td>318</td><td>Paradise Lost: The Child Murders at Robin Hood Hills (1996)</td><td>1996</td></tr>\n",
       "\t<tr><td>3</td><td>4.564560</td><td>545</td><td>Rob Roy (1995)                                             </td><td>1995</td></tr>\n",
       "\t<tr><td>3</td><td>4.451445</td><td>511</td><td>Boot, Das (1981)                                           </td><td>1997</td></tr>\n",
       "\t<tr><td>3</td><td>4.451445</td><td>514</td><td>Miller's Crossing (1990)                                   </td><td>1990</td></tr>\n",
       "\t<tr><td>3</td><td>4.395714</td><td>894</td><td>Big Lebowski, The (1998)                                   </td><td>1997</td></tr>\n",
       "\t<tr><td>3</td><td>4.319083</td><td>183</td><td>Alien (1979)                                               </td><td>1979</td></tr>\n",
       "\t<tr><td>3</td><td>4.308334</td><td>702</td><td>Sex, Lies, and Videotape (1989)                            </td><td>1989</td></tr>\n",
       "\t<tr><td>3</td><td>4.285714</td><td>865</td><td>Love Jones (1997)                                          </td><td>1997</td></tr>\n",
       "\t<tr><td>3</td><td>4.285714</td><td>873</td><td>Soul Food (1997)                                           </td><td>1997</td></tr>\n",
       "</tbody>\n",
       "</table>\n"
      ],
      "text/latex": [
       "A data.table: 10 × 5\n",
       "\\begin{tabular}{lllll}\n",
       " user & rating & index & title & year\\\\\n",
       " <int> & <dbl> & <int> & <chr> & <dbl>\\\\\n",
       "\\hline\n",
       "\t 3 & 5.135714 & 891 & Winter Guest, The (1997)                                    & 1997\\\\\n",
       "\t 3 & 4.740260 & 318 & Paradise Lost: The Child Murders at Robin Hood Hills (1996) & 1996\\\\\n",
       "\t 3 & 4.564560 & 545 & Rob Roy (1995)                                              & 1995\\\\\n",
       "\t 3 & 4.451445 & 511 & Boot, Das (1981)                                            & 1997\\\\\n",
       "\t 3 & 4.451445 & 514 & Miller's Crossing (1990)                                    & 1990\\\\\n",
       "\t 3 & 4.395714 & 894 & Big Lebowski, The (1998)                                    & 1997\\\\\n",
       "\t 3 & 4.319083 & 183 & Alien (1979)                                                & 1979\\\\\n",
       "\t 3 & 4.308334 & 702 & Sex, Lies, and Videotape (1989)                             & 1989\\\\\n",
       "\t 3 & 4.285714 & 865 & Love Jones (1997)                                           & 1997\\\\\n",
       "\t 3 & 4.285714 & 873 & Soul Food (1997)                                            & 1997\\\\\n",
       "\\end{tabular}\n"
      ],
      "text/markdown": [
       "\n",
       "A data.table: 10 × 5\n",
       "\n",
       "| user &lt;int&gt; | rating &lt;dbl&gt; | index &lt;int&gt; | title &lt;chr&gt; | year &lt;dbl&gt; |\n",
       "|---|---|---|---|---|\n",
       "| 3 | 5.135714 | 891 | Winter Guest, The (1997)                                    | 1997 |\n",
       "| 3 | 4.740260 | 318 | Paradise Lost: The Child Murders at Robin Hood Hills (1996) | 1996 |\n",
       "| 3 | 4.564560 | 545 | Rob Roy (1995)                                              | 1995 |\n",
       "| 3 | 4.451445 | 511 | Boot, Das (1981)                                            | 1997 |\n",
       "| 3 | 4.451445 | 514 | Miller's Crossing (1990)                                    | 1990 |\n",
       "| 3 | 4.395714 | 894 | Big Lebowski, The (1998)                                    | 1997 |\n",
       "| 3 | 4.319083 | 183 | Alien (1979)                                                | 1979 |\n",
       "| 3 | 4.308334 | 702 | Sex, Lies, and Videotape (1989)                             | 1989 |\n",
       "| 3 | 4.285714 | 865 | Love Jones (1997)                                           | 1997 |\n",
       "| 3 | 4.285714 | 873 | Soul Food (1997)                                            | 1997 |\n",
       "\n"
      ],
      "text/plain": [
       "   user rating   index\n",
       "1  3    5.135714 891  \n",
       "2  3    4.740260 318  \n",
       "3  3    4.564560 545  \n",
       "4  3    4.451445 511  \n",
       "5  3    4.451445 514  \n",
       "6  3    4.395714 894  \n",
       "7  3    4.319083 183  \n",
       "8  3    4.308334 702  \n",
       "9  3    4.285714 865  \n",
       "10 3    4.285714 873  \n",
       "   title                                                       year\n",
       "1  Winter Guest, The (1997)                                    1997\n",
       "2  Paradise Lost: The Child Murders at Robin Hood Hills (1996) 1996\n",
       "3  Rob Roy (1995)                                              1995\n",
       "4  Boot, Das (1981)                                            1997\n",
       "5  Miller's Crossing (1990)                                    1990\n",
       "6  Big Lebowski, The (1998)                                    1997\n",
       "7  Alien (1979)                                                1979\n",
       "8  Sex, Lies, and Videotape (1989)                             1989\n",
       "9  Love Jones (1997)                                           1997\n",
       "10 Soul Food (1997)                                            1997"
      ]
     },
     "metadata": {},
     "output_type": "display_data"
    }
   ],
   "source": [
    "library(dplyr)\n",
    "library(data.table)\n",
    "\n",
    "#Last is user 3\n",
    "data.table(rec_df[rec_df$user %in% (3), ])"
   ]
  },
  {
   "cell_type": "code",
   "execution_count": 9,
   "id": "1f6a20dc",
   "metadata": {},
   "outputs": [],
   "source": [
    "#Question 2"
   ]
  },
  {
   "cell_type": "code",
   "execution_count": 10,
   "id": "edf4b020",
   "metadata": {},
   "outputs": [],
   "source": [
    "#Loading of all necessary data per instructions\n",
    "data(state)\n",
    "state_df <- state.x77\n",
    "\n",
    "#Removal of 'na' values to create clean data\n",
    "state_df <- na.omit(state_df)\n",
    "\n",
    "#Standardization of data to address features having different scales, using the scale function\n",
    "scaled_data <- scale(state_df)"
   ]
  },
  {
   "cell_type": "code",
   "execution_count": 11,
   "id": "61b11a92",
   "metadata": {},
   "outputs": [
    {
     "data": {
      "image/png": "[encoded data removed]",
      "text/plain": [
       "Plot with title \"Dendrogram\""
      ]
     },
     "metadata": {
      "image/png": {
       "height": 420,
       "width": 420
      }
     },
     "output_type": "display_data"
    }
   ],
   "source": [
    "#2a\n",
    "\n",
    "#Performing hierarchical clustering across the data selected as features\n",
    "hc <- hclust(dist(scaled_data), method = \"complete\")\n",
    "\n",
    "#Creation of a dendrogram plot\n",
    "plot(hc, main = \"Dendrogram\")"
   ]
  },
  {
   "cell_type": "code",
   "execution_count": 12,
   "id": "e2ebf387",
   "metadata": {},
   "outputs": [
    {
     "name": "stdout",
     "output_type": "stream",
     "text": [
      "The optimal value of k is 9"
     ]
    }
   ],
   "source": [
    "#2b \n",
    "\n",
    "#Performing k-means clustering with values of k from 2 to 10\n",
    "k_values <- 2:10  \n",
    "results <- list()\n",
    "for (k in k_values) {\n",
    "  kmeans_result <- kmeans(state_df, centers = k, nstart = 10)\n",
    "  results[[as.character(k)]] <- kmeans_result\n",
    "}\n",
    "\n",
    "#Evaluating clustering results using within-cluster sum of squares\n",
    "eval_metrics <- sapply(results, function(result) {\n",
    "  sum(result$withinss)\n",
    "})\n",
    "\n",
    "#Selecting the value of k based on the within-cluster sum of squares results\n",
    "best_k <- which.min(eval_metrics)\n",
    "\n",
    "#Obtaining a final clustering result using the selected k value\n",
    "final_clusters <- results[[as.character(best_k)]]\n",
    "\n",
    "#Accessing the cluster assignments for each state\n",
    "cluster_assignments <- final_clusters$cluster\n",
    "cat(\"The optimal value of k is\", best_k)"
   ]
  },
  {
   "cell_type": "code",
   "execution_count": 13,
   "id": "1c0c9109",
   "metadata": {},
   "outputs": [],
   "source": [
    "#2b k-means justification: The optimal k value is k = 9, \n",
    "#as by going from k = 2 to 10 and calculating the \n",
    "#within-cluster sum of squares, the minimum value \n",
    "#was obtained on that from the k value of 9."
   ]
  },
  {
   "cell_type": "code",
   "execution_count": 14,
   "id": "66af2fa1",
   "metadata": {},
   "outputs": [
    {
     "name": "stdout",
     "output_type": "stream",
     "text": [
      "K-means clustering results:\n",
      "Silhouette coefficient: 0.5281753 \n",
      "Dunn index: 0.03616003 \n",
      "________________\n",
      "Hierarchical clustering results:\n",
      "Silhouette coefficient: 0.7436759 \n",
      "Dunn index: 0.6777507 \n"
     ]
    }
   ],
   "source": [
    "#2c\n",
    "\n",
    "library(cluster)\n",
    "library(fpc)\n",
    "\n",
    "#Performing k-means clustering\n",
    "kmeans_clusters <- kmeans(state_df, centers = 3, nstart = 25)  \n",
    "\n",
    "#Performing hierarchical clustering \n",
    "hierarchical_clusters <- hclust(dist(state_df))\n",
    "\n",
    "#Comparing clustering results using a silhouette coefficient to determine quality of cluster separation\n",
    "silhouette_kmeans <- silhouette(kmeans_clusters$cluster, dist(state_df))\n",
    "\n",
    "#Comparing clustering results using both the Dunn index and Silhouette Coefficient to determine cluster separation\n",
    "dunn_kmeans <- cluster.stats(dist(state_df), kmeans_clusters$cluster)$dunn\n",
    "silhouette_kmeans <- silhouette(kmeans_clusters$cluster, dist(state_df))\n",
    "\n",
    "#rand_kmeans <- adjustedRandIndex(kmeans_clusters$cluster, data$Region)  \n",
    "#rand_hierarchical <- adjustedRandIndex (cutree(hierarchical_clusters, k = 3), data$Region\n",
    "silhouette_hierarchical <- silhouette(cutree(hierarchical_clusters, k = 3), dist(state_df))\n",
    "dunn_hierarchical <- cluster.stats(dist(state_df), cutree(hierarchical_clusters, k = 3))$dunn\n",
    "\n",
    "#Printing of results for comparison\n",
    "cat(\"K-means clustering results:\\n\") \n",
    "cat(\"Silhouette coefficient:\", mean(silhouette_kmeans[, 3]), \"\\n\")\n",
    "cat(\"Dunn index:\", dunn_kmeans, \"\\n\")\n",
    "cat(\"________________\\n\")\n",
    "cat(\"Hierarchical clustering results:\\n\")\n",
    "cat(\"Silhouette coefficient:\", mean(silhouette_hierarchical[, 3]), \"\\n\")\n",
    "cat(\"Dunn index:\", dunn_hierarchical, \"\\n\")"
   ]
  },
  {
   "cell_type": "code",
   "execution_count": 15,
   "id": "803a9f18",
   "metadata": {},
   "outputs": [],
   "source": [
    "# 2c Based on the output above, I argue that hierarchical \n",
    "#clustering performs better comparatively.  Per the two\n",
    "#metrics used to ascertain performance \n",
    "#(Silhouette coefficient and Dunn Index), results indicate \n",
    "#that hierarchical clustering achieves better cluster \n",
    "#separation and compactness as indicated by higher \n",
    "#coefficients for each metric on that clustering type. \n",
    "#This demonstrates that a hierarchical clustering approach \n",
    "#results in more meaningful and distinct clusters in this \n",
    "#particular dataset. "
   ]
  },
  {
   "cell_type": "code",
   "execution_count": 16,
   "id": "1d16be5e",
   "metadata": {},
   "outputs": [
    {
     "name": "stdout",
     "output_type": "stream",
     "text": [
      "package 'ggfortify' successfully unpacked and MD5 sums checked\n",
      "\n",
      "The downloaded binary packages are in\n",
      "\tC:\\Users\\Lisa Kulka\\AppData\\Local\\Temp\\RtmpqwmrGs\\downloaded_packages\n"
     ]
    },
    {
     "data": {
      "image/png": "[encoded data removed]",
      "text/plain": [
       "plot without title"
      ]
     },
     "metadata": {
      "image/png": {
       "height": 420,
       "width": 420
      }
     },
     "output_type": "display_data"
    }
   ],
   "source": [
    "#Question 3\n",
    "\n",
    "#3a\n",
    "\n",
    "#Loading of all necessary packages, and data per instructions\n",
    "library(ggplot2)\n",
    "library(dplyr)\n",
    "install.packages(\"ggfortify\")\n",
    "library(ggfortify)\n",
    "data(iris)\n",
    "\n",
    "#Performing Principal Component Analysis (PCA)\n",
    "pca <- prcomp(iris[, 1:4], scale. = TRUE)\n",
    "\n",
    "#Creation of a new dataframe with the principal components and species information\n",
    "iris_pca <- as.data.frame(pca$x[, 1:2])\n",
    "iris_pca$Species <- iris$Species\n",
    "\n",
    "#Plotting the principal components, colored by species\n",
    "ggplot(iris_pca, aes(PC1, PC2, color = Species)) +\n",
    "  geom_point() +\n",
    "  labs(x = \"Principal Component 1\", y = \"Principal Component 2\", title = \"Iris Dataset - PCA Plot\")"
   ]
  },
  {
   "cell_type": "code",
   "execution_count": 17,
   "id": "0a0e3e20",
   "metadata": {},
   "outputs": [
    {
     "data": {
      "image/png": "[encoded data removed]",
      "text/plain": [
       "plot without title"
      ]
     },
     "metadata": {
      "image/png": {
       "height": 420,
       "width": 420
      }
     },
     "output_type": "display_data"
    }
   ],
   "source": [
    "#3b\n",
    "\n",
    "#Extraction of the first two principal components\n",
    "pca_components <- as.data.frame(pca$x[, 1:2])\n",
    "\n",
    "#Performing k-means clustering on the principal components, using k = 3 clusters as that is the number of species in the dataset\n",
    "k <- 3  \n",
    "kmeans_clusters <- kmeans(pca_components, centers = k, nstart = 10)\n",
    "\n",
    "#Adding cluster labels to the principal components data\n",
    "pca_clusters <- cbind(pca_components, cluster = as.factor(kmeans_clusters$cluster))\n",
    "\n",
    "#Adding  species labels to the cluster data\n",
    "pca_clusters <- cbind(pca_clusters, species = iris$Species)\n",
    "\n",
    "#Plotting the clusters with different colors and symbols for the created species labels\n",
    "ggplot(pca_clusters, aes(PC1, PC2, color = cluster, shape = species)) +\n",
    "  geom_point() +\n",
    "  labs(x = \"Principal Component 1\", y = \"Principal Component 2\", title = \"K-means Clustering of Iris Dataset\")"
   ]
  },
  {
   "cell_type": "code",
   "execution_count": 31,
   "id": "61a7d143",
   "metadata": {
    "scrolled": true
   },
   "outputs": [
    {
     "name": "stderr",
     "output_type": "stream",
     "text": [
      "Warning message:\n",
      "\"package 'fossil' is in use and will not be installed\"\n"
     ]
    },
    {
     "name": "stdout",
     "output_type": "stream",
     "text": [
      "Rand Index: 0.8322148 \n",
      "Adjusted Rand index: 0.6201352 \n"
     ]
    }
   ],
   "source": [
    "#3c\n",
    "\n",
    "install.packages(\"fossil\")\n",
    "library(fossil)\n",
    "\n",
    "#Using rand index to assess how well the cluster assignments capture the species labels\n",
    "rand_index <- rand.index(kmeans_clusters$cluster, as.numeric(iris$Species))\n",
    "\n",
    "#Using adjusted rand index to assess how well the cluster assignments capture the species labels\n",
    "adj_rand_index <- adj.rand.index(kmeans_clusters$cluster, as.numeric(iris$Species))\n",
    "\n",
    "#Producing the value for each index\n",
    "cat(\"Rand Index:\", rand_index, \"\\n\")\n",
    "cat(\"Adjusted Rand index:\", adj_rand_index, \"\\n\")"
   ]
  },
  {
   "cell_type": "code",
   "execution_count": 32,
   "id": "bad2f190",
   "metadata": {},
   "outputs": [],
   "source": [
    "#3c  Since the Rand Index and Adjusted Rand Index \n",
    "#are both very close to 1, this suggests that \n",
    "#clustering results based on the first two principal \n",
    "#components capture the labels well in this dataset.\n"
   ]
  },
  {
   "cell_type": "code",
   "execution_count": 44,
   "id": "7bc38586",
   "metadata": {},
   "outputs": [
    {
     "data": {
      "image/png": "[encoded data removed]",
      "text/plain": [
       "Plot with title \"Gap Statistic\""
      ]
     },
     "metadata": {
      "image/png": {
       "height": 420,
       "width": 420
      }
     },
     "output_type": "display_data"
    },
    {
     "data": {
      "image/png": "[encoded data removed]",
      "text/plain": [
       "Plot with title \"Silhouette Plot\""
      ]
     },
     "metadata": {
      "image/png": {
       "height": 420,
       "width": 420
      }
     },
     "output_type": "display_data"
    }
   ],
   "source": [
    "#3d\n",
    "\n",
    "#Installation of all necessary libraries/packages\n",
    "library(cluster)\n",
    "\n",
    "#Computing the gap statistic\n",
    "gap_stat <- clusGap(iris[, 1:4], FUN = kmeans, nstart = 10, K.max = 10)\n",
    "\n",
    "#Plotting the gap statistic\n",
    "plot(gap_stat, main = \"Gap Statistic\")\n",
    "\n",
    "#Computing the silhouette scores\n",
    "silhouette_scores <- numeric(length = 9)\n",
    "for (k in 2:10) {\n",
    "  km <- kmeans(iris[, 1:4], centers = k)\n",
    "  if (length(unique(km$cluster)) > 1) {\n",
    "    silhouette_scores[k-1] <- mean(silhouette(km$cluster, dist(iris[, 1:4])))\n",
    "  } else {\n",
    "    silhouette_scores[k-1] <- NA\n",
    "  }\n",
    "}\n",
    "\n",
    "#Filtering out missing silhouette scores\n",
    "valid_scores <- !is.na(silhouette_scores)\n",
    "\n",
    "#Creating x and y vectors with valid scores\n",
    "x_values <- 2:10\n",
    "y_values <- silhouette_scores\n",
    "\n",
    "#Subsetting x and y vectors with valid scores\n",
    "x_values <- x_values[valid_scores]\n",
    "y_values <- y_values[valid_scores]\n",
    "\n",
    "#Plotting the available silhouette scores\n",
    "plot(x_values, y_values, type = \"b\",\n",
    "     xlab = \"Number of Clusters\", ylab = \"Silhouette Score\",\n",
    "     main = \"Silhouette Plot\")"
   ]
  },
  {
   "cell_type": "code",
   "execution_count": 41,
   "id": "c19d0908",
   "metadata": {},
   "outputs": [],
   "source": [
    "#3d Results demonstrate that for k = 8, the gap statistic is maximal, \n",
    "#which means that the optimal number of clusters is 8.\n",
    " "
   ]
  },
  {
   "cell_type": "code",
   "execution_count": 20,
   "id": "9ddccc44",
   "metadata": {},
   "outputs": [],
   "source": [
    "#3e While the analysis produced reasonably strong Rand Index and \n",
    "#Adjusted Rand Index values for k = 3, this value would not be the \n",
    "#optimal cluster number as per results demonstrated in #3d.  \n",
    "#This indicates that data can be clustered in multiple ways and \n",
    "#having an optimal cluster number is key in this kind of analysis.  \n",
    "#In addition, obtaining a best k value is an iterative process, and \n",
    "#the efficacy of gap statistics and silhouette scores should facilitate \n",
    "#and underscore the optimal selection of a k value.\n"
   ]
  }
 ],
 "metadata": {
  "kernelspec": {
   "display_name": "R",
   "language": "R",
   "name": "ir"
  },
  "language_info": {
   "codemirror_mode": "r",
   "file_extension": ".r",
   "mimetype": "text/x-r-source",
   "name": "R",
   "pygments_lexer": "r",
   "version": "4.1.3"
  }
 },
 "nbformat": 4,
 "nbformat_minor": 5
}
