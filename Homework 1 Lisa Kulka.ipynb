{
 "cells": [
  {
   "cell_type": "code",
   "execution_count": 1,
   "id": "26c0d758",
   "metadata": {},
   "outputs": [
    {
     "name": "stderr",
     "output_type": "stream",
     "text": [
      "Loading required package: ISLR2\n",
      "\n",
      "Loading required package: tidyverse\n",
      "\n",
      "-- \u001b[1mAttaching core tidyverse packages\u001b[22m ---------------------------------------------------------------- tidyverse 2.0.0 --\n",
      "\u001b[32mv\u001b[39m \u001b[34mdplyr    \u001b[39m 1.1.2     \u001b[32mv\u001b[39m \u001b[34mreadr    \u001b[39m 2.1.4\n",
      "\u001b[32mv\u001b[39m \u001b[34mforcats  \u001b[39m 1.0.0     \u001b[32mv\u001b[39m \u001b[34mstringr  \u001b[39m 1.5.0\n",
      "\u001b[32mv\u001b[39m \u001b[34mggplot2  \u001b[39m 3.4.2     \u001b[32mv\u001b[39m \u001b[34mtibble   \u001b[39m 3.2.1\n",
      "\u001b[32mv\u001b[39m \u001b[34mlubridate\u001b[39m 1.9.2     \u001b[32mv\u001b[39m \u001b[34mtidyr    \u001b[39m 1.3.0\n",
      "\u001b[32mv\u001b[39m \u001b[34mpurrr    \u001b[39m 1.0.1     \n",
      "-- \u001b[1mConflicts\u001b[22m ---------------------------------------------------------------------------------- tidyverse_conflicts() --\n",
      "\u001b[31mx\u001b[39m \u001b[34mdplyr\u001b[39m::\u001b[32mfilter()\u001b[39m masks \u001b[34mstats\u001b[39m::filter()\n",
      "\u001b[31mx\u001b[39m \u001b[34mdplyr\u001b[39m::\u001b[32mlag()\u001b[39m    masks \u001b[34mstats\u001b[39m::lag()\n",
      "\u001b[36mi\u001b[39m Use the conflicted package (\u001b[3m\u001b[34m<http://conflicted.r-lib.org/>\u001b[39m\u001b[23m) to force all conflicts to become errors\n",
      "Loading required package: MASS\n",
      "\n",
      "\n",
      "Attaching package: 'MASS'\n",
      "\n",
      "\n",
      "The following object is masked from 'package:dplyr':\n",
      "\n",
      "    select\n",
      "\n",
      "\n",
      "The following object is masked from 'package:ISLR2':\n",
      "\n",
      "    Boston\n",
      "\n",
      "\n",
      "Loading required package: scales\n",
      "\n",
      "\n",
      "Attaching package: 'scales'\n",
      "\n",
      "\n",
      "The following object is masked from 'package:purrr':\n",
      "\n",
      "    discard\n",
      "\n",
      "\n",
      "The following object is masked from 'package:readr':\n",
      "\n",
      "    col_factor\n",
      "\n",
      "\n",
      "Loading required package: arules\n",
      "\n",
      "Loading required package: Matrix\n",
      "\n",
      "\n",
      "Attaching package: 'Matrix'\n",
      "\n",
      "\n",
      "The following objects are masked from 'package:tidyr':\n",
      "\n",
      "    expand, pack, unpack\n",
      "\n",
      "\n",
      "\n",
      "Attaching package: 'arules'\n",
      "\n",
      "\n",
      "The following object is masked from 'package:dplyr':\n",
      "\n",
      "    recode\n",
      "\n",
      "\n",
      "The following objects are masked from 'package:base':\n",
      "\n",
      "    abbreviate, write\n",
      "\n",
      "\n",
      "Loading required package: gridExtra\n",
      "\n",
      "\n",
      "Attaching package: 'gridExtra'\n",
      "\n",
      "\n",
      "The following object is masked from 'package:dplyr':\n",
      "\n",
      "    combine\n",
      "\n",
      "\n",
      "Loading required package: BiocManager\n",
      "\n",
      "Bioconductor version '3.14' is out-of-date; the current release version '3.17'\n",
      "  is available with R version '4.3'; see https://bioconductor.org/install\n",
      "\n",
      "'getOption(\"repos\")' replaces Bioconductor standard repositories, see\n",
      "'help(\"repositories\", package = \"BiocManager\")' for details.\n",
      "Replacement repositories:\n",
      "    CRAN: https://cran.r-project.org\n",
      "\n",
      "Bioconductor version 3.14 (BiocManager 1.30.20), R 4.1.3 (2022-03-10)\n",
      "\n",
      "Installing package(s) 'BiocVersion', 'gRbase', 'gRain', 'gRim'\n",
      "\n",
      "also installing the dependencies 'BiocGenerics', 'BH', 'graph', 'RBGL', 'Rgraphviz', 'igraph', 'Rcpp', 'RcppEigen', 'RcppArmadillo'\n",
      "\n",
      "\n"
     ]
    },
    {
     "name": "stdout",
     "output_type": "stream",
     "text": [
      "\n",
      "  There is a binary version available but the source version is later:\n",
      "       binary source needs_compilation\n",
      "igraph  1.4.2  1.4.3              TRUE\n",
      "\n",
      "  Binaries will be installed\n",
      "package 'BiocGenerics' successfully unpacked and MD5 sums checked\n",
      "package 'BH' successfully unpacked and MD5 sums checked\n",
      "package 'graph' successfully unpacked and MD5 sums checked\n",
      "package 'RBGL' successfully unpacked and MD5 sums checked\n",
      "package 'Rgraphviz' successfully unpacked and MD5 sums checked\n",
      "package 'igraph' successfully unpacked and MD5 sums checked\n",
      "package 'Rcpp' successfully unpacked and MD5 sums checked\n",
      "package 'RcppEigen' successfully unpacked and MD5 sums checked\n",
      "package 'RcppArmadillo' successfully unpacked and MD5 sums checked\n",
      "package 'BiocVersion' successfully unpacked and MD5 sums checked\n",
      "package 'gRbase' successfully unpacked and MD5 sums checked\n",
      "package 'gRain' successfully unpacked and MD5 sums checked\n",
      "package 'gRim' successfully unpacked and MD5 sums checked\n",
      "\n",
      "The downloaded binary packages are in\n",
      "\tC:\\Users\\Lisa Kulka\\AppData\\Local\\Temp\\RtmpGmjfwb\\downloaded_packages\n"
     ]
    },
    {
     "name": "stderr",
     "output_type": "stream",
     "text": [
      "Old packages: 'cachem', 'fs', 'igraph', 'MASS', 'Matrix', 'sass', 'sys',\n",
      "  'tzdb', 'vroom', 'xml2'\n",
      "\n"
     ]
    }
   ],
   "source": [
    "if (!require(\"ISLR2\")) install.packages(\"ISLR2\")\n",
    "if (!require(\"tidyverse\")) install.packages(\"tidyverse\")\n",
    "if (!require(\"dplyr\")) install.packages(\"dplyr\")\n",
    "if (!require(\"MASS\")) install.packages(\"MASS\")\n",
    "if (!require(\"ggplot2\")) install.packages(\"ggplot2\", dependencies = TRUE)\n",
    "if (!require(\"scales\")) install.packages(\"scales\")\n",
    "if (!require(\"arules\")) install.packages(\"arules\")\n",
    "if (!require(\"gridExtra\")) install.packages(\"gridExtra\")\n",
    "\n",
    "if (!require(\"BiocManager\")) install.packages(\"BiocManager\")\n",
    "BiocManager::install(c(\"gRbase\", \"gRain\", \"gRim\"), force=TRUE)"
   ]
  },
  {
   "cell_type": "code",
   "execution_count": 4,
   "id": "a4977ac2",
   "metadata": {},
   "outputs": [
    {
     "name": "stderr",
     "output_type": "stream",
     "text": [
      "Warning message:\n",
      "\"package 'ggplot2' is in use and will not be installed\"\n",
      "Warning message:\n",
      "\"package 'ggplot' is not available for this version of R\n",
      "\n",
      "A version of this package for your version of R might be available elsewhere,\n",
      "see the ideas at\n",
      "https://cran.r-project.org/doc/manuals/r-patched/R-admin.html#Installing-packages\"\n",
      "Warning message:\n",
      "\"package 'tidyverse' is in use and will not be installed\"\n"
     ]
    },
    {
     "data": {
      "text/html": [
       "<table class=\"dataframe\">\n",
       "<caption>A data.frame: 6 × 18</caption>\n",
       "<thead>\n",
       "\t<tr><th></th><th scope=col>Private</th><th scope=col>Apps</th><th scope=col>Accept</th><th scope=col>Enroll</th><th scope=col>Top10perc</th><th scope=col>Top25perc</th><th scope=col>F.Undergrad</th><th scope=col>P.Undergrad</th><th scope=col>Outstate</th><th scope=col>Room.Board</th><th scope=col>Books</th><th scope=col>Personal</th><th scope=col>PhD</th><th scope=col>Terminal</th><th scope=col>S.F.Ratio</th><th scope=col>perc.alumni</th><th scope=col>Expend</th><th scope=col>Grad.Rate</th></tr>\n",
       "\t<tr><th></th><th scope=col>&lt;fct&gt;</th><th scope=col>&lt;dbl&gt;</th><th scope=col>&lt;dbl&gt;</th><th scope=col>&lt;dbl&gt;</th><th scope=col>&lt;dbl&gt;</th><th scope=col>&lt;dbl&gt;</th><th scope=col>&lt;dbl&gt;</th><th scope=col>&lt;dbl&gt;</th><th scope=col>&lt;dbl&gt;</th><th scope=col>&lt;dbl&gt;</th><th scope=col>&lt;dbl&gt;</th><th scope=col>&lt;dbl&gt;</th><th scope=col>&lt;dbl&gt;</th><th scope=col>&lt;dbl&gt;</th><th scope=col>&lt;dbl&gt;</th><th scope=col>&lt;dbl&gt;</th><th scope=col>&lt;dbl&gt;</th><th scope=col>&lt;dbl&gt;</th></tr>\n",
       "</thead>\n",
       "<tbody>\n",
       "\t<tr><th scope=row>Abilene Christian University</th><td>Yes</td><td>1660</td><td>1232</td><td>721</td><td>23</td><td>52</td><td>2885</td><td> 537</td><td> 7440</td><td>3300</td><td>450</td><td>2200</td><td>70</td><td>78</td><td>18.1</td><td>12</td><td> 7041</td><td>60</td></tr>\n",
       "\t<tr><th scope=row>Adelphi University</th><td>Yes</td><td>2186</td><td>1924</td><td>512</td><td>16</td><td>29</td><td>2683</td><td>1227</td><td>12280</td><td>6450</td><td>750</td><td>1500</td><td>29</td><td>30</td><td>12.2</td><td>16</td><td>10527</td><td>56</td></tr>\n",
       "\t<tr><th scope=row>Adrian College</th><td>Yes</td><td>1428</td><td>1097</td><td>336</td><td>22</td><td>50</td><td>1036</td><td>  99</td><td>11250</td><td>3750</td><td>400</td><td>1165</td><td>53</td><td>66</td><td>12.9</td><td>30</td><td> 8735</td><td>54</td></tr>\n",
       "\t<tr><th scope=row>Agnes Scott College</th><td>Yes</td><td> 417</td><td> 349</td><td>137</td><td>60</td><td>89</td><td> 510</td><td>  63</td><td>12960</td><td>5450</td><td>450</td><td> 875</td><td>92</td><td>97</td><td> 7.7</td><td>37</td><td>19016</td><td>59</td></tr>\n",
       "\t<tr><th scope=row>Alaska Pacific University</th><td>Yes</td><td> 193</td><td> 146</td><td> 55</td><td>16</td><td>44</td><td> 249</td><td> 869</td><td> 7560</td><td>4120</td><td>800</td><td>1500</td><td>76</td><td>72</td><td>11.9</td><td> 2</td><td>10922</td><td>15</td></tr>\n",
       "\t<tr><th scope=row>Albertson College</th><td>Yes</td><td> 587</td><td> 479</td><td>158</td><td>38</td><td>62</td><td> 678</td><td>  41</td><td>13500</td><td>3335</td><td>500</td><td> 675</td><td>67</td><td>73</td><td> 9.4</td><td>11</td><td> 9727</td><td>55</td></tr>\n",
       "</tbody>\n",
       "</table>\n"
      ],
      "text/latex": [
       "A data.frame: 6 × 18\n",
       "\\begin{tabular}{r|llllllllllllllllll}\n",
       "  & Private & Apps & Accept & Enroll & Top10perc & Top25perc & F.Undergrad & P.Undergrad & Outstate & Room.Board & Books & Personal & PhD & Terminal & S.F.Ratio & perc.alumni & Expend & Grad.Rate\\\\\n",
       "  & <fct> & <dbl> & <dbl> & <dbl> & <dbl> & <dbl> & <dbl> & <dbl> & <dbl> & <dbl> & <dbl> & <dbl> & <dbl> & <dbl> & <dbl> & <dbl> & <dbl> & <dbl>\\\\\n",
       "\\hline\n",
       "\tAbilene Christian University & Yes & 1660 & 1232 & 721 & 23 & 52 & 2885 &  537 &  7440 & 3300 & 450 & 2200 & 70 & 78 & 18.1 & 12 &  7041 & 60\\\\\n",
       "\tAdelphi University & Yes & 2186 & 1924 & 512 & 16 & 29 & 2683 & 1227 & 12280 & 6450 & 750 & 1500 & 29 & 30 & 12.2 & 16 & 10527 & 56\\\\\n",
       "\tAdrian College & Yes & 1428 & 1097 & 336 & 22 & 50 & 1036 &   99 & 11250 & 3750 & 400 & 1165 & 53 & 66 & 12.9 & 30 &  8735 & 54\\\\\n",
       "\tAgnes Scott College & Yes &  417 &  349 & 137 & 60 & 89 &  510 &   63 & 12960 & 5450 & 450 &  875 & 92 & 97 &  7.7 & 37 & 19016 & 59\\\\\n",
       "\tAlaska Pacific University & Yes &  193 &  146 &  55 & 16 & 44 &  249 &  869 &  7560 & 4120 & 800 & 1500 & 76 & 72 & 11.9 &  2 & 10922 & 15\\\\\n",
       "\tAlbertson College & Yes &  587 &  479 & 158 & 38 & 62 &  678 &   41 & 13500 & 3335 & 500 &  675 & 67 & 73 &  9.4 & 11 &  9727 & 55\\\\\n",
       "\\end{tabular}\n"
      ],
      "text/markdown": [
       "\n",
       "A data.frame: 6 × 18\n",
       "\n",
       "| <!--/--> | Private &lt;fct&gt; | Apps &lt;dbl&gt; | Accept &lt;dbl&gt; | Enroll &lt;dbl&gt; | Top10perc &lt;dbl&gt; | Top25perc &lt;dbl&gt; | F.Undergrad &lt;dbl&gt; | P.Undergrad &lt;dbl&gt; | Outstate &lt;dbl&gt; | Room.Board &lt;dbl&gt; | Books &lt;dbl&gt; | Personal &lt;dbl&gt; | PhD &lt;dbl&gt; | Terminal &lt;dbl&gt; | S.F.Ratio &lt;dbl&gt; | perc.alumni &lt;dbl&gt; | Expend &lt;dbl&gt; | Grad.Rate &lt;dbl&gt; |\n",
       "|---|---|---|---|---|---|---|---|---|---|---|---|---|---|---|---|---|---|---|\n",
       "| Abilene Christian University | Yes | 1660 | 1232 | 721 | 23 | 52 | 2885 |  537 |  7440 | 3300 | 450 | 2200 | 70 | 78 | 18.1 | 12 |  7041 | 60 |\n",
       "| Adelphi University | Yes | 2186 | 1924 | 512 | 16 | 29 | 2683 | 1227 | 12280 | 6450 | 750 | 1500 | 29 | 30 | 12.2 | 16 | 10527 | 56 |\n",
       "| Adrian College | Yes | 1428 | 1097 | 336 | 22 | 50 | 1036 |   99 | 11250 | 3750 | 400 | 1165 | 53 | 66 | 12.9 | 30 |  8735 | 54 |\n",
       "| Agnes Scott College | Yes |  417 |  349 | 137 | 60 | 89 |  510 |   63 | 12960 | 5450 | 450 |  875 | 92 | 97 |  7.7 | 37 | 19016 | 59 |\n",
       "| Alaska Pacific University | Yes |  193 |  146 |  55 | 16 | 44 |  249 |  869 |  7560 | 4120 | 800 | 1500 | 76 | 72 | 11.9 |  2 | 10922 | 15 |\n",
       "| Albertson College | Yes |  587 |  479 | 158 | 38 | 62 |  678 |   41 | 13500 | 3335 | 500 |  675 | 67 | 73 |  9.4 | 11 |  9727 | 55 |\n",
       "\n"
      ],
      "text/plain": [
       "                             Private Apps Accept Enroll Top10perc Top25perc\n",
       "Abilene Christian University Yes     1660 1232   721    23        52       \n",
       "Adelphi University           Yes     2186 1924   512    16        29       \n",
       "Adrian College               Yes     1428 1097   336    22        50       \n",
       "Agnes Scott College          Yes      417  349   137    60        89       \n",
       "Alaska Pacific University    Yes      193  146    55    16        44       \n",
       "Albertson College            Yes      587  479   158    38        62       \n",
       "                             F.Undergrad P.Undergrad Outstate Room.Board Books\n",
       "Abilene Christian University 2885         537         7440    3300       450  \n",
       "Adelphi University           2683        1227        12280    6450       750  \n",
       "Adrian College               1036          99        11250    3750       400  \n",
       "Agnes Scott College           510          63        12960    5450       450  \n",
       "Alaska Pacific University     249         869         7560    4120       800  \n",
       "Albertson College             678          41        13500    3335       500  \n",
       "                             Personal PhD Terminal S.F.Ratio perc.alumni Expend\n",
       "Abilene Christian University 2200     70  78       18.1      12           7041 \n",
       "Adelphi University           1500     29  30       12.2      16          10527 \n",
       "Adrian College               1165     53  66       12.9      30           8735 \n",
       "Agnes Scott College           875     92  97        7.7      37          19016 \n",
       "Alaska Pacific University    1500     76  72       11.9       2          10922 \n",
       "Albertson College             675     67  73        9.4      11           9727 \n",
       "                             Grad.Rate\n",
       "Abilene Christian University 60       \n",
       "Adelphi University           56       \n",
       "Adrian College               54       \n",
       "Agnes Scott College          59       \n",
       "Alaska Pacific University    15       \n",
       "Albertson College            55       "
      ]
     },
     "metadata": {},
     "output_type": "display_data"
    },
    {
     "name": "stderr",
     "output_type": "stream",
     "text": [
      "\u001b[1m\u001b[22m`stat_bin()` using `bins = 30`. Pick better value with `binwidth`.\n",
      "\u001b[1m\u001b[22m`stat_bin()` using `bins = 30`. Pick better value with `binwidth`.\n"
     ]
    },
    {
     "data": {
      "image/png": "[encoded data removed]",
      "text/plain": [
       "plot without title"
      ]
     },
     "metadata": {
      "image/png": {
       "height": 420,
       "width": 420
      }
     },
     "output_type": "display_data"
    },
    {
     "data": {
      "image/png": "[encoded data removed]",
      "text/plain": [
       "plot without title"
      ]
     },
     "metadata": {
      "image/png": {
       "height": 420,
       "width": 420
      }
     },
     "output_type": "display_data"
    },
    {
     "data": {
      "image/png": "[encoded data removed]",
      "text/plain": [
       "plot without title"
      ]
     },
     "metadata": {
      "image/png": {
       "height": 420,
       "width": 420
      }
     },
     "output_type": "display_data"
    }
   ],
   "source": [
    "#Question 1\n",
    "\n",
    "#Installation of all necessary libraries/packages per instructions\n",
    "if (!require(\"ISLR2\")) install.packages(\"ISLR2\")\n",
    "library(ISLR2)\n",
    "install.packages(\"ggplot2\")\n",
    "install.packages(\"ggplot\")\n",
    "install.packages(\"tidyverse\")\n",
    "data(College)\n",
    "head(College)\n",
    "\n",
    "\n",
    "#1a \n",
    "\n",
    "#Data visualization and transformation in histogram form\n",
    "ggplot(College, aes(x = Grad.Rate)) + geom_histogram()\n",
    "ggplot(College, aes(x = F.Undergrad)) + geom_histogram()\n",
    "ggplot(College, aes(x = F.Undergrad,\n",
    "                    y = Grad.Rate))+ geom_point()"
   ]
  },
  {
   "cell_type": "code",
   "execution_count": 5,
   "id": "565b5748",
   "metadata": {},
   "outputs": [],
   "source": [
    "#1a  I argue that a transformation is required due to the resulting distribution seen in the visualizations (i.e., 'F.Undergrad' is negatively skewed), and this is indicative of a need for data transformation. Scaling is completed below as well."
   ]
  },
  {
   "cell_type": "code",
   "execution_count": 7,
   "id": "575bace5",
   "metadata": {},
   "outputs": [
    {
     "name": "stderr",
     "output_type": "stream",
     "text": [
      "Warning message:\n",
      "\"package 'ggplot2' is in use and will not be installed\"\n",
      "\u001b[1m\u001b[22m`stat_bin()` using `bins = 30`. Pick better value with `binwidth`.\n"
     ]
    },
    {
     "data": {
      "image/png": "[encoded data removed]",
      "text/plain": [
       "plot without title"
      ]
     },
     "metadata": {
      "image/png": {
       "height": 420,
       "width": 420
      }
     },
     "output_type": "display_data"
    },
    {
     "data": {
      "image/png": "[encoded data removed]",
      "text/plain": [
       "plot without title"
      ]
     },
     "metadata": {
      "image/png": {
       "height": 420,
       "width": 420
      }
     },
     "output_type": "display_data"
    }
   ],
   "source": [
    "#1b\n",
    "\n",
    "#Rescaling the F.Undergrad and Grad.Rate graph\n",
    "install.packages(\"ggplot2\")\n",
    "ggplot(College, aes(x = log10(F.Undergrad))) + geom_histogram()\n",
    "ggplot(College, aes(x=log10(F.Undergrad),\n",
    "                    y=Grad.Rate))+ geom_point()"
   ]
  },
  {
   "cell_type": "code",
   "execution_count": 8,
   "id": "3a49153b",
   "metadata": {},
   "outputs": [],
   "source": [
    "#1b The scaling results indicate that there is a relationship between the total number of full-time undergraduates and the rate of graduation. A regression analysis can be implemented with this transformed data."
   ]
  },
  {
   "cell_type": "code",
   "execution_count": 9,
   "id": "02762064",
   "metadata": {},
   "outputs": [],
   "source": [
    "#1c\n",
    "\n",
    "#Subsetting the data into two dataframes ('public' and 'private')\n",
    "public <- College[College$Private == \"No\", ]\n",
    "private <- College[College$Private == \"Yes\", ]\n",
    "\n",
    "#Eliminating the column 'private', which is no longer needed after creating two separate dataframes\n",
    "public$Private <- NULL\n",
    "private$Private <- NULL\n",
    "\n",
    "#Sorting both dataframes alphabetically \n",
    "public <- public[order(rownames(public)), ]\n",
    "private <- private[order(rownames(private)), ]\n",
    "\n",
    "#Saving each dataframe as tab delimited .txt files\n",
    "write.table(private, \"private.txt\", sep = \"\\t\")\n",
    "write.table(public, \"public.txt\", sep = \"\\t\")"
   ]
  },
  {
   "cell_type": "code",
   "execution_count": 10,
   "id": "5d0fe115",
   "metadata": {},
   "outputs": [],
   "source": [
    "#1d\n",
    "\n",
    "#Calculating the median value of \"Top25perc\" both for the public and private dataframes\n",
    "median_public <- median(public$Top25perc, na.rm = TRUE)\n",
    "median_private <- median(private$Top25perc, na.rm = TRUE)\n",
    "\n",
    "#Subsetting both dataframes to exclude universities with values less than the \"Top25perc\" median value\n",
    "public <- subset(public, Top25perc >= median_public)\n",
    "private <- subset(private, Top25perc >= median_private)"
   ]
  },
  {
   "cell_type": "code",
   "execution_count": 11,
   "id": "b393bf47",
   "metadata": {},
   "outputs": [
    {
     "name": "stderr",
     "output_type": "stream",
     "text": [
      "Warning message:\n",
      "\"package 'dplyr' is in use and will not be installed\"\n"
     ]
    },
    {
     "data": {
      "text/html": [
       "<table class=\"dataframe\">\n",
       "<caption>A data.frame: 6 × 18</caption>\n",
       "<thead>\n",
       "\t<tr><th></th><th scope=col>Apps</th><th scope=col>Accept</th><th scope=col>Enroll</th><th scope=col>Top10perc</th><th scope=col>Top25perc</th><th scope=col>F.Undergrad</th><th scope=col>P.Undergrad</th><th scope=col>Outstate</th><th scope=col>Room.Board</th><th scope=col>Books</th><th scope=col>Personal</th><th scope=col>PhD</th><th scope=col>Terminal</th><th scope=col>S.F.Ratio</th><th scope=col>perc.alumni</th><th scope=col>Expend</th><th scope=col>Grad.Rate</th><th scope=col>grad_category</th></tr>\n",
       "\t<tr><th></th><th scope=col>&lt;dbl&gt;</th><th scope=col>&lt;dbl&gt;</th><th scope=col>&lt;dbl&gt;</th><th scope=col>&lt;dbl&gt;</th><th scope=col>&lt;dbl&gt;</th><th scope=col>&lt;dbl&gt;</th><th scope=col>&lt;dbl&gt;</th><th scope=col>&lt;dbl&gt;</th><th scope=col>&lt;dbl&gt;</th><th scope=col>&lt;dbl&gt;</th><th scope=col>&lt;dbl&gt;</th><th scope=col>&lt;dbl&gt;</th><th scope=col>&lt;dbl&gt;</th><th scope=col>&lt;dbl&gt;</th><th scope=col>&lt;dbl&gt;</th><th scope=col>&lt;dbl&gt;</th><th scope=col>&lt;dbl&gt;</th><th scope=col>&lt;chr&gt;</th></tr>\n",
       "</thead>\n",
       "<tbody>\n",
       "\t<tr><th scope=row>Agnes Scott College</th><td> 417</td><td> 349</td><td>137</td><td>60</td><td>89</td><td> 510</td><td> 63</td><td>12960</td><td>5450</td><td>450</td><td>875</td><td>92</td><td> 97</td><td> 7.7</td><td>37</td><td>19016</td><td>59</td><td>Low   </td></tr>\n",
       "\t<tr><th scope=row>Albertson College</th><td> 587</td><td> 479</td><td>158</td><td>38</td><td>62</td><td> 678</td><td> 41</td><td>13500</td><td>3335</td><td>500</td><td>675</td><td>67</td><td> 73</td><td> 9.4</td><td>11</td><td> 9727</td><td>55</td><td>Low   </td></tr>\n",
       "\t<tr><th scope=row>Albion College</th><td>1899</td><td>1720</td><td>489</td><td>37</td><td>68</td><td>1594</td><td> 32</td><td>13868</td><td>4826</td><td>450</td><td>850</td><td>89</td><td>100</td><td>13.7</td><td>37</td><td>11487</td><td>73</td><td>Medium</td></tr>\n",
       "\t<tr><th scope=row>Albright College</th><td>1038</td><td> 839</td><td>227</td><td>30</td><td>63</td><td> 973</td><td>306</td><td>15595</td><td>4400</td><td>300</td><td>500</td><td>79</td><td> 84</td><td>11.3</td><td>23</td><td>11644</td><td>80</td><td>Medium</td></tr>\n",
       "\t<tr><th scope=row>Alfred University</th><td>1732</td><td>1425</td><td>472</td><td>37</td><td>75</td><td>1830</td><td>110</td><td>16548</td><td>5406</td><td>500</td><td>600</td><td>82</td><td> 88</td><td>11.3</td><td>31</td><td>10932</td><td>73</td><td>Medium</td></tr>\n",
       "\t<tr><th scope=row>Allegheny College</th><td>2652</td><td>1900</td><td>484</td><td>44</td><td>77</td><td>1707</td><td> 44</td><td>17080</td><td>4440</td><td>400</td><td>600</td><td>73</td><td> 91</td><td> 9.9</td><td>41</td><td>11711</td><td>76</td><td>Medium</td></tr>\n",
       "</tbody>\n",
       "</table>\n"
      ],
      "text/latex": [
       "A data.frame: 6 × 18\n",
       "\\begin{tabular}{r|llllllllllllllllll}\n",
       "  & Apps & Accept & Enroll & Top10perc & Top25perc & F.Undergrad & P.Undergrad & Outstate & Room.Board & Books & Personal & PhD & Terminal & S.F.Ratio & perc.alumni & Expend & Grad.Rate & grad\\_category\\\\\n",
       "  & <dbl> & <dbl> & <dbl> & <dbl> & <dbl> & <dbl> & <dbl> & <dbl> & <dbl> & <dbl> & <dbl> & <dbl> & <dbl> & <dbl> & <dbl> & <dbl> & <dbl> & <chr>\\\\\n",
       "\\hline\n",
       "\tAgnes Scott College &  417 &  349 & 137 & 60 & 89 &  510 &  63 & 12960 & 5450 & 450 & 875 & 92 &  97 &  7.7 & 37 & 19016 & 59 & Low   \\\\\n",
       "\tAlbertson College &  587 &  479 & 158 & 38 & 62 &  678 &  41 & 13500 & 3335 & 500 & 675 & 67 &  73 &  9.4 & 11 &  9727 & 55 & Low   \\\\\n",
       "\tAlbion College & 1899 & 1720 & 489 & 37 & 68 & 1594 &  32 & 13868 & 4826 & 450 & 850 & 89 & 100 & 13.7 & 37 & 11487 & 73 & Medium\\\\\n",
       "\tAlbright College & 1038 &  839 & 227 & 30 & 63 &  973 & 306 & 15595 & 4400 & 300 & 500 & 79 &  84 & 11.3 & 23 & 11644 & 80 & Medium\\\\\n",
       "\tAlfred University & 1732 & 1425 & 472 & 37 & 75 & 1830 & 110 & 16548 & 5406 & 500 & 600 & 82 &  88 & 11.3 & 31 & 10932 & 73 & Medium\\\\\n",
       "\tAllegheny College & 2652 & 1900 & 484 & 44 & 77 & 1707 &  44 & 17080 & 4440 & 400 & 600 & 73 &  91 &  9.9 & 41 & 11711 & 76 & Medium\\\\\n",
       "\\end{tabular}\n"
      ],
      "text/markdown": [
       "\n",
       "A data.frame: 6 × 18\n",
       "\n",
       "| <!--/--> | Apps &lt;dbl&gt; | Accept &lt;dbl&gt; | Enroll &lt;dbl&gt; | Top10perc &lt;dbl&gt; | Top25perc &lt;dbl&gt; | F.Undergrad &lt;dbl&gt; | P.Undergrad &lt;dbl&gt; | Outstate &lt;dbl&gt; | Room.Board &lt;dbl&gt; | Books &lt;dbl&gt; | Personal &lt;dbl&gt; | PhD &lt;dbl&gt; | Terminal &lt;dbl&gt; | S.F.Ratio &lt;dbl&gt; | perc.alumni &lt;dbl&gt; | Expend &lt;dbl&gt; | Grad.Rate &lt;dbl&gt; | grad_category &lt;chr&gt; |\n",
       "|---|---|---|---|---|---|---|---|---|---|---|---|---|---|---|---|---|---|---|\n",
       "| Agnes Scott College |  417 |  349 | 137 | 60 | 89 |  510 |  63 | 12960 | 5450 | 450 | 875 | 92 |  97 |  7.7 | 37 | 19016 | 59 | Low    |\n",
       "| Albertson College |  587 |  479 | 158 | 38 | 62 |  678 |  41 | 13500 | 3335 | 500 | 675 | 67 |  73 |  9.4 | 11 |  9727 | 55 | Low    |\n",
       "| Albion College | 1899 | 1720 | 489 | 37 | 68 | 1594 |  32 | 13868 | 4826 | 450 | 850 | 89 | 100 | 13.7 | 37 | 11487 | 73 | Medium |\n",
       "| Albright College | 1038 |  839 | 227 | 30 | 63 |  973 | 306 | 15595 | 4400 | 300 | 500 | 79 |  84 | 11.3 | 23 | 11644 | 80 | Medium |\n",
       "| Alfred University | 1732 | 1425 | 472 | 37 | 75 | 1830 | 110 | 16548 | 5406 | 500 | 600 | 82 |  88 | 11.3 | 31 | 10932 | 73 | Medium |\n",
       "| Allegheny College | 2652 | 1900 | 484 | 44 | 77 | 1707 |  44 | 17080 | 4440 | 400 | 600 | 73 |  91 |  9.9 | 41 | 11711 | 76 | Medium |\n",
       "\n"
      ],
      "text/plain": [
       "                    Apps Accept Enroll Top10perc Top25perc F.Undergrad\n",
       "Agnes Scott College  417  349   137    60        89         510       \n",
       "Albertson College    587  479   158    38        62         678       \n",
       "Albion College      1899 1720   489    37        68        1594       \n",
       "Albright College    1038  839   227    30        63         973       \n",
       "Alfred University   1732 1425   472    37        75        1830       \n",
       "Allegheny College   2652 1900   484    44        77        1707       \n",
       "                    P.Undergrad Outstate Room.Board Books Personal PhD Terminal\n",
       "Agnes Scott College  63         12960    5450       450   875      92   97     \n",
       "Albertson College    41         13500    3335       500   675      67   73     \n",
       "Albion College       32         13868    4826       450   850      89  100     \n",
       "Albright College    306         15595    4400       300   500      79   84     \n",
       "Alfred University   110         16548    5406       500   600      82   88     \n",
       "Allegheny College    44         17080    4440       400   600      73   91     \n",
       "                    S.F.Ratio perc.alumni Expend Grad.Rate grad_category\n",
       "Agnes Scott College  7.7      37          19016  59        Low          \n",
       "Albertson College    9.4      11           9727  55        Low          \n",
       "Albion College      13.7      37          11487  73        Medium       \n",
       "Albright College    11.3      23          11644  80        Medium       \n",
       "Alfred University   11.3      31          10932  73        Medium       \n",
       "Allegheny College    9.9      41          11711  76        Medium       "
      ]
     },
     "metadata": {},
     "output_type": "display_data"
    }
   ],
   "source": [
    "#1e\n",
    "\n",
    "#Loading the dplyr library (to be able to use the mutate function)\n",
    "install.packages(\"dplyr\")\n",
    "\n",
    "#Dividing data based on thresholds  of 0, 1/3 and 2/3 to calculate quanitles (per prior histogram)\n",
    "quantiles_public <- quantile(public$Grad.Rate, probs = c(0, 0.33, 0.67, 1))\n",
    "quantiles_private <- quantile(private$Grad.Rate, probs = c(0, 0.33, 0.67, 1))\n",
    "\n",
    "#Creating the new variable  \n",
    "public <- public %>%\n",
    "  mutate(grad_category = case_when(\n",
    "    Grad.Rate >= quantiles_public[2] & Grad.Rate  < quantiles_public[3] ~ \"Medium\",\n",
    "    Grad.Rate  >= quantiles_public[3] ~ \"High\",\n",
    "    TRUE ~ \"Low\"\n",
    "))\n",
    "private <- private %>%\n",
    "  mutate(grad_category = case_when(\n",
    "    Grad.Rate  >= quantiles_private[2] & Grad.Rate  < quantiles_private[3] ~ \"Medium\",\n",
    "    Grad.Rate  >= quantiles_private[3] ~ \"High\",\n",
    "    TRUE ~ \"Low\"\n",
    "))\n",
    "head(private)"
   ]
  },
  {
   "cell_type": "code",
   "execution_count": 12,
   "id": "42c74e33",
   "metadata": {},
   "outputs": [],
   "source": [
    "#1f\n",
    "\n",
    "#Creating a list structure of the 'public' and 'private' dataframes\n",
    "public_private <- list(public = public, private = private)\n",
    "\n",
    "#Saving the output to an .RData file\n",
    "save(public_private, file = \"assignment_data.RData\")"
   ]
  },
  {
   "cell_type": "code",
   "execution_count": 21,
   "id": "8ebf0ac2",
   "metadata": {},
   "outputs": [
    {
     "name": "stderr",
     "output_type": "stream",
     "text": [
      "Warning message:\n",
      "\"package 'dplyr' is in use and will not be installed\"\n"
     ]
    },
    {
     "name": "stdout",
     "output_type": "stream",
     "text": [
      "package 'rpart' successfully unpacked and MD5 sums checked\n",
      "\n",
      "The downloaded binary packages are in\n",
      "\tC:\\Users\\Lisa Kulka\\AppData\\Local\\Temp\\RtmpGmjfwb\\downloaded_packages\n",
      "Call:\n",
      "rpart(formula = target ~ ., data = acombined_data)\n",
      "  n= 18818 \n",
      "\n",
      "    CP nsplit rel error xerror xstd\n",
      "1 0.01      0         1      0    0\n",
      "\n",
      "Node number 1: 18818 observations\n",
      "  predicted class=0  expected loss=0.5  P(node) =1\n",
      "    class counts:  9409  9409\n",
      "   probabilities: 0.500 0.500 \n",
      "\n"
     ]
    },
    {
     "data": {
      "text/html": [
       "<table class=\"dataframe\">\n",
       "<caption>A matrix: 10 × 2 of type dbl</caption>\n",
       "<thead>\n",
       "\t<tr><th scope=col>0</th><th scope=col>1</th></tr>\n",
       "</thead>\n",
       "<tbody>\n",
       "\t<tr><td>0.5</td><td>0.5</td></tr>\n",
       "\t<tr><td>0.5</td><td>0.5</td></tr>\n",
       "\t<tr><td>0.5</td><td>0.5</td></tr>\n",
       "\t<tr><td>0.5</td><td>0.5</td></tr>\n",
       "\t<tr><td>0.5</td><td>0.5</td></tr>\n",
       "\t<tr><td>0.5</td><td>0.5</td></tr>\n",
       "\t<tr><td>0.5</td><td>0.5</td></tr>\n",
       "\t<tr><td>0.5</td><td>0.5</td></tr>\n",
       "\t<tr><td>0.5</td><td>0.5</td></tr>\n",
       "\t<tr><td>0.5</td><td>0.5</td></tr>\n",
       "</tbody>\n",
       "</table>\n"
      ],
      "text/latex": [
       "A matrix: 10 × 2 of type dbl\n",
       "\\begin{tabular}{ll}\n",
       " 0 & 1\\\\\n",
       "\\hline\n",
       "\t 0.5 & 0.5\\\\\n",
       "\t 0.5 & 0.5\\\\\n",
       "\t 0.5 & 0.5\\\\\n",
       "\t 0.5 & 0.5\\\\\n",
       "\t 0.5 & 0.5\\\\\n",
       "\t 0.5 & 0.5\\\\\n",
       "\t 0.5 & 0.5\\\\\n",
       "\t 0.5 & 0.5\\\\\n",
       "\t 0.5 & 0.5\\\\\n",
       "\t 0.5 & 0.5\\\\\n",
       "\\end{tabular}\n"
      ],
      "text/markdown": [
       "\n",
       "A matrix: 10 × 2 of type dbl\n",
       "\n",
       "| 0 | 1 |\n",
       "|---|---|\n",
       "| 0.5 | 0.5 |\n",
       "| 0.5 | 0.5 |\n",
       "| 0.5 | 0.5 |\n",
       "| 0.5 | 0.5 |\n",
       "| 0.5 | 0.5 |\n",
       "| 0.5 | 0.5 |\n",
       "| 0.5 | 0.5 |\n",
       "| 0.5 | 0.5 |\n",
       "| 0.5 | 0.5 |\n",
       "| 0.5 | 0.5 |\n",
       "\n"
      ],
      "text/plain": [
       "      0   1  \n",
       " [1,] 0.5 0.5\n",
       " [2,] 0.5 0.5\n",
       " [3,] 0.5 0.5\n",
       " [4,] 0.5 0.5\n",
       " [5,] 0.5 0.5\n",
       " [6,] 0.5 0.5\n",
       " [7,] 0.5 0.5\n",
       " [8,] 0.5 0.5\n",
       " [9,] 0.5 0.5\n",
       "[10,] 0.5 0.5"
      ]
     },
     "metadata": {},
     "output_type": "display_data"
    }
   ],
   "source": [
    "#Question 2\n",
    "\n",
    "#Installation of all necessary libraries/packages per instructions\n",
    "install.packages(\"dplyr\")\n",
    "load(\"marketing.rdata\")\n",
    "\n",
    "#Constructing a table from text book data \n",
    "demographic = c(\"Sex\", \"Martial_Status\", \"Age\", \"Education\", \"Occupation\", \"Income\", \"Years_In_BayArea\", \"Dual_Incomes\", \"Numbers_in_Household\", \n",
    "                \"Number_of_Children\", \"Householder_Status\", \"Type_of_Home\", \"Ethinic_Classification\", \"Language_in_Home\")\n",
    "N = 9409\n",
    "Sex = sample(c(1,2), N,replace = T)\n",
    "Martial_Status = sample(seq(1,5), N, replace = T)\n",
    "Age = sample(seq(1,7), N, replace = T)\n",
    "Education = sample(seq(1,6), N, replace = T)\n",
    "Occupation = sample(seq(1,9), N, replace = T)\n",
    "Income = sample(seq(1,9), N, replace = T)\n",
    "Years_In_BayArea = sample(seq(1,5), N, replace = T)\n",
    "Dual_Incomes = sample(seq(1,3), N, replace = T)\n",
    "\n",
    "Numbers_in_Household = sample(seq(1,9), N, replace = T)\n",
    "Number_of_Children = sample(seq(1,9), N, replace = T)\n",
    "Householder_Status = sample(seq(1,3), N, replace = T)\n",
    "Type_of_Home = sample(seq(1,5), N, replace = T)\n",
    "Ethinic_Classification = sample(seq(1,8), N, replace = T) \n",
    "Language_in_Home = sample(seq(1,3), N, replace = T)\n",
    "\n",
    "#Constructing the training sample dataframe\n",
    "training_sample = data.frame(Sex, Martial_Status, Age, Education, Occupation, Income, Years_In_BayArea, Dual_Incomes, Numbers_in_Household, \n",
    "                             Number_of_Children, Householder_Status, Type_of_Home, Ethinic_Classification, Language_in_Home)\n",
    "\n",
    "#Assigning all demographic variable names to the columns of the dataframe\n",
    "names(training_sample) = demographic\n",
    "\n",
    "#Adding a target column, with all values set to 1\n",
    "training_sample$target = 1\n",
    "\n",
    "#Removing the individual variable columns from the environment\n",
    "rm(Sex, Martial_Status, Age, Education, Occupation, Income, Years_In_BayArea, Dual_Incomes, Number_of_Children, Numbers_in_Household, \n",
    "   Householder_Status, Type_of_Home, Ethinic_Classification, Language_in_Home)\n",
    "\n",
    "#Creating a reference sample by assigning the training sample to it\n",
    "ref_sample = training_sample\n",
    "\n",
    "#Iterating over each column of the 'ref_sample' dataframe and replacing the column values with a randomly shuffled version of the same column values\n",
    "for(i in 1:ncol(ref_sample)){\n",
    "  ref_sample[,i] = sample(ref_sample[,i], nrow(ref_sample), replace = F)\n",
    "}\n",
    "\n",
    "#Setting the target column of the 'ref_sample' dataframe to 0 (class 0)\n",
    "ref_sample$target = 0\n",
    "\n",
    "#Combining the 'ref_sample' dataframe with the 'training_sample' and \n",
    "#Removing the 'ref_sample' and 'training_sample' dataframes from the environment using the rm() function\n",
    "acombined_data = rbind(ref_sample, training_sample); rm(ref_sample, training_sample)\n",
    "\n",
    "#Changing columns that contain categorical data  \n",
    "acombined_data$Sex = as.factor(as.character(acombined_data$Sex))\n",
    "acombined_data$Martial_Status = as.factor(as.character(acombined_data$Martial_Status))\n",
    "acombined_data$Occupation = as.factor(as.character(acombined_data$Occupation))\n",
    "acombined_data$Dual_Incomes = as.factor(as.character(acombined_data$Dual_Incomes))\n",
    "acombined_data$Householder_Status = as.factor(as.character(acombined_data$Householder_Status))\n",
    "acombined_data$Type_of_Home = as.factor(as.character(acombined_data$Type_of_Home))\n",
    "acombined_data$Ethinic_Classification = as.factor(as.character(acombined_data$Ethinic_Classification))\n",
    "acombined_data$Language_in_Home = as.factor(as.character(acombined_data$Language_in_Home))\n",
    "\n",
    "#Decision tree\n",
    "#Installation of all necessary libraries/packages\n",
    "install.packages(\"rpart\")\n",
    "library(rpart)\n",
    "\n",
    "#Converting the 'target' column in the 'a_combined' dataframe to a factor variable\n",
    "acombined_data$target = as.factor(as.character(acombined_data$target))\n",
    "\n",
    "#Creating the decision tree using the rpart() function as well as the target formula, which specifies that the target variable is predicted based on all other variables in the dataframe\n",
    "model = rpart(target~., acombined_data)\n",
    "\n",
    "#Displaying a summary of the decision tree model\n",
    "summary(model)\n",
    "\n",
    "#Employing the predict() function to make predictions using the decsision tree model on the 'acombined_data' dataframe\n",
    "predicted = predict(model, acombined_data[,-c(15)])\n",
    "head(predicted, 10)"
   ]
  },
  {
   "cell_type": "code",
   "execution_count": null,
   "id": "af1dea25",
   "metadata": {},
   "outputs": [],
   "source": [
    "#Question 2 Results: Based on the given model, it is evident that the features lack predictive power for classification. This is indicated by the presence of a single root in the model, suggesting that its predictive ability is limited. To further support this observation, predictions made using the model on the training set itself demonstrate that the predicted probabilities for each row are evenly distributed, with a probability of one-half assigned to both classes.  This allows for the conclusion that the model lacks predictive power, as it fails to provide meaningful distinctions between classes."
   ]
  },
  {
   "cell_type": "code",
   "execution_count": 16,
   "id": "01d432b0",
   "metadata": {},
   "outputs": [
    {
     "name": "stderr",
     "output_type": "stream",
     "text": [
      "Warning message:\n",
      "\"package 'MASS' is in use and will not be installed\"\n",
      "Warning message:\n",
      "\"package 'ggplot2' is in use and will not be installed\"\n",
      "Warning message:\n",
      "\"package 'scales' is in use and will not be installed\"\n",
      "Warning message:\n",
      "\"package 'arules' is in use and will not be installed\"\n",
      "Warning message:\n",
      "\"package 'gridExtra' is in use and will not be installed\"\n",
      "\u001b[1m\u001b[22m`stat_bin()` using `bins = 30`. Pick better value with `binwidth`.\n",
      "\u001b[1m\u001b[22m`stat_bin()` using `bins = 30`. Pick better value with `binwidth`.\n",
      "\u001b[1m\u001b[22m`stat_bin()` using `bins = 30`. Pick better value with `binwidth`.\n",
      "\u001b[1m\u001b[22m`stat_bin()` using `bins = 30`. Pick better value with `binwidth`.\n",
      "\u001b[1m\u001b[22m`stat_bin()` using `bins = 30`. Pick better value with `binwidth`.\n",
      "\u001b[1m\u001b[22m`stat_bin()` using `bins = 30`. Pick better value with `binwidth`.\n",
      "\u001b[1m\u001b[22m`stat_bin()` using `bins = 30`. Pick better value with `binwidth`.\n",
      "\u001b[1m\u001b[22m`stat_bin()` using `bins = 30`. Pick better value with `binwidth`.\n"
     ]
    },
    {
     "data": {
      "image/png": "[encoded data removed]",
      "text/plain": [
       "plot without title"
      ]
     },
     "metadata": {
      "image/png": {
       "height": 420,
       "width": 420
      }
     },
     "output_type": "display_data"
    },
    {
     "name": "stderr",
     "output_type": "stream",
     "text": [
      "\u001b[1m\u001b[22m`stat_bin()` using `bins = 30`. Pick better value with `binwidth`.\n",
      "\u001b[1m\u001b[22m`stat_bin()` using `bins = 30`. Pick better value with `binwidth`.\n",
      "\u001b[1m\u001b[22m`stat_bin()` using `bins = 30`. Pick better value with `binwidth`.\n",
      "\u001b[1m\u001b[22m`stat_bin()` using `bins = 30`. Pick better value with `binwidth`.\n"
     ]
    },
    {
     "data": {
      "image/png": "[encoded data removed]",
      "text/plain": [
       "plot without title"
      ]
     },
     "metadata": {
      "image/png": {
       "height": 420,
       "width": 420
      }
     },
     "output_type": "display_data"
    },
    {
     "name": "stderr",
     "output_type": "stream",
     "text": [
      "\u001b[1m\u001b[22m`stat_bin()` using `bins = 30`. Pick better value with `binwidth`.\n",
      "\u001b[1m\u001b[22m`stat_bin()` using `bins = 30`. Pick better value with `binwidth`.\n"
     ]
    },
    {
     "data": {
      "image/png": "[encoded data removed]",
      "text/plain": [
       "plot without title"
      ]
     },
     "metadata": {
      "image/png": {
       "height": 420,
       "width": 420
      }
     },
     "output_type": "display_data"
    },
    {
     "data": {
      "text/plain": [
       "             crim                      zn     \n",
       " very-low-crime:294   non-residential   :372  \n",
       " low-crime     : 38   small-residence   : 33  \n",
       " moderate-crime: 68   moderate-residence: 56  \n",
       " high-crime    :106   large-residence   : 45  \n",
       "                             indus                    rm     \n",
       " very-low-business-concentration:120   small-house     : 16  \n",
       " low-business-concentration     :150   large-house     :426  \n",
       " moderate-business-concentration:209   very-large-house: 64  \n",
       " high-business-concentration    : 27                         \n",
       "                       age             dis                         rad     \n",
       " few-old-houses          : 34   very-near:112   easily-accessible    :307  \n",
       " old-houses-in-moderation:113   near     :259   moderately-accessible: 67  \n",
       " lots-of-old-houses      :359   far      :130   not-accessible       :132  \n",
       "                                very-far :  5                              \n",
       "           tax                    ptratio           medv    \n",
       " low-tax     :172   small-class       : 58   cheap    :215  \n",
       " moderate-tax:197   mediam-sized-class:247   moderate :243  \n",
       " high-tax    :137   large-class       :201   expensive: 48  \n",
       "                                                            "
      ]
     },
     "metadata": {},
     "output_type": "display_data"
    },
    {
     "data": {
      "image/png": "[encoded data removed]",
      "text/plain": [
       "plot without title"
      ]
     },
     "metadata": {
      "image/png": {
       "height": 420,
       "width": 420
      }
     },
     "output_type": "display_data"
    }
   ],
   "source": [
    "#Question 3\n",
    "\n",
    "#Installation of all necessary libraries/packages\n",
    "install.packages(\"MASS\")\n",
    "install.packages(\"ggplot2\")\n",
    "install.packages(\"scales\")\n",
    "install.packages(\"arules\")\n",
    "install.packages(\"gridExtra\")\n",
    "data(\"Boston\")\n",
    "\n",
    "#3a\n",
    "\n",
    "#Creating multiple histograms with variable sets using ggplot2, as below\n",
    "#medv, crim, zn and indus\n",
    "p1 <- ggplot(data = Boston, aes(x = medv)) + geom_histogram()\n",
    "p2 <- ggplot(data = Boston, aes(x = crim)) + geom_histogram()\n",
    "p3 <- ggplot(data = Boston, aes(x = zn)) + geom_histogram()\n",
    "p4 <- ggplot(data = Boston, aes(x = indus)) + geom_histogram()\n",
    "grid.arrange(p1, p2, p3, p4, ncol=2)\n",
    "\n",
    "#chas, nos, rm and age\n",
    "p5 <- ggplot(data = Boston, aes(x = chas)) + geom_histogram()\n",
    "p6 <- ggplot(data = Boston, aes(x = nox)) + geom_histogram()\n",
    "p7 <- ggplot(data = Boston, aes(x = rm)) + geom_histogram()\n",
    "p8 <- ggplot(data = Boston, aes(x = age)) + geom_histogram()\n",
    "grid.arrange(p5, p6, p7, p8, ncol=2)\n",
    "\n",
    "#dis, rad, tax and ptratio\n",
    "p9 <- ggplot(data = Boston, aes(x = dis)) + geom_histogram()\n",
    "p10 <- ggplot(data = Boston, aes(x = rad)) + geom_histogram()\n",
    "p11 <- ggplot(data = Boston, aes(x = tax)) + geom_histogram()\n",
    "p12 <- ggplot(data = Boston, aes(x = ptratio)) + geom_histogram()\n",
    "grid.arrange(p9, p10, p11, p12, ncol=2)\n",
    "\n",
    "#black and lstat\n",
    "p13 <- ggplot(data = Boston, aes(x = black)) + geom_histogram()\n",
    "p14 <- ggplot(data = Boston, aes(x = lstat)) + geom_histogram()\n",
    "grid.arrange(p13, p14, ncol=2)\n",
    "\n",
    "#Transforming the data into a binary incidence matrix\n",
    "Boston[[\"crim\"]] <- ordered(cut(Boston[[\"crim\"]], c(0,0.5,1,5,100)), labels = c('very-low-crime','low-crime','moderate-crime','high-crime'))\n",
    "Boston[[\"zn\"]] <- ordered(cut(Boston[[\"zn\"]], c(-1,10,20,50,100)), labels = c('non-residential','small-residence','moderate-residence','large-residence'))\n",
    "Boston[[\"indus\"]] <- ordered(cut(Boston[[\"indus\"]], c(0,5,10,20,30)), labels = c('very-low-business-concentration','low-business-concentration','moderate-business-concentration','high-business-concentration'))\n",
    "Boston[[\"chas\"]] <- NULL\n",
    "Boston[[\"nox\"]] <- NULL\n",
    "Boston[[\"rm\"]] <- ordered(cut(Boston[[\"rm\"]], c(1,5,7,10)), labels = c('small-house','large-house','very-large-house'))\n",
    "Boston[[\"age\"]] <- ordered(cut(Boston[[\"age\"]], c(0,20,50,100)), labels = c('few-old-houses','old-houses-in-moderation','lots-of-old-houses'))\n",
    "Boston[[\"dis\"]] <- ordered(cut(Boston[[\"dis\"]], c(0,2,5,10,15)), labels = c('very-near','near','far','very-far'))\n",
    "Boston[[\"rad\"]] <- ordered(cut(Boston[[\"rad\"]], c(0,5,10,25)), labels = c('easily-accessible','moderately-accessible','not-accessible'))\n",
    "Boston[[\"tax\"]] <- ordered(cut(Boston[[\"tax\"]], c(0,300,500,1000)), labels = c('low-tax','moderate-tax','high-tax'))\n",
    "Boston[[\"ptratio\"]] <- ordered(cut(Boston[[\"ptratio\"]], c(10,15,20,25)), labels = c('small-class','mediam-sized-class','large-class'))\n",
    "Boston[[\"black\"]] <- NULL\n",
    "Boston[[\"medv\"]] <- ordered(cut(Boston[[\"medv\"]], c(1,20,35,60)), labels = c('cheap','moderate','expensive'))\n",
    "Boston[[\"lstat\"]] <- NULL\n",
    "summary(Boston)"
   ]
  },
  {
   "cell_type": "code",
   "execution_count": null,
   "id": "23c1dbc1",
   "metadata": {},
   "outputs": [],
   "source": [
    "#3a Per the creation of histograms, the category groupings have been visualized, and data clusters are clearly apparent within them."
   ]
  },
  {
   "cell_type": "code",
   "execution_count": 17,
   "id": "92090700",
   "metadata": {},
   "outputs": [
    {
     "name": "stdout",
     "output_type": "stream",
     "text": [
      "Apriori\n",
      "\n",
      "Parameter specification:\n",
      " confidence minval smax arem  aval originalSupport maxtime support minlen\n",
      "        0.6    0.1    1 none FALSE            TRUE       5   0.001      1\n",
      " maxlen target  ext\n",
      "     10  rules TRUE\n",
      "\n",
      "Algorithmic control:\n",
      " filter tree heap memopt load sort verbose\n",
      "    0.1 TRUE TRUE  FALSE TRUE    2    TRUE\n",
      "\n",
      "Absolute minimum support count: 0 \n",
      "\n",
      "set item appearances ...[0 item(s)] done [0.00s].\n",
      "set transactions ...[34 item(s), 506 transaction(s)] done [0.00s].\n",
      "sorting and recoding items ... [34 item(s)] done [0.00s].\n",
      "creating transaction tree ... done [0.00s].\n",
      "checking subsets of size 1 2 3 4 5 6 7 8 9 10 done [0.05s].\n",
      "writing ... [220203 rule(s)] done [0.12s].\n",
      "creating S4 object  ... done [0.28s].\n"
     ]
    },
    {
     "data": {
      "text/plain": [
       "set of 220203 rules\n",
       "\n",
       "rule length distribution (lhs + rhs):sizes\n",
       "    1     2     3     4     5     6     7     8     9    10 \n",
       "    4   197  2554 13816 38401 61084 58510 33557 10646  1434 \n",
       "\n",
       "   Min. 1st Qu.  Median    Mean 3rd Qu.    Max. \n",
       "  1.000   6.000   6.000   6.403   7.000  10.000 \n",
       "\n",
       "summary of quality measures:\n",
       "    support           confidence        coverage             lift         \n",
       " Min.   :0.001976   Min.   :0.6000   Min.   :0.001976   Min.   :  0.7127  \n",
       " 1st Qu.:0.001976   1st Qu.:0.9412   1st Qu.:0.001976   1st Qu.:  1.4095  \n",
       " Median :0.005929   Median :1.0000   Median :0.007905   Median :  1.9537  \n",
       " Mean   :0.016488   Mean   :0.9379   Mean   :0.018795   Mean   :  3.1156  \n",
       " 3rd Qu.:0.015810   3rd Qu.:1.0000   3rd Qu.:0.017787   3rd Qu.:  3.2113  \n",
       " Max.   :0.841897   Max.   :1.0000   Max.   :1.000000   Max.   :101.2000  \n",
       "     count        \n",
       " Min.   :  1.000  \n",
       " 1st Qu.:  1.000  \n",
       " Median :  3.000  \n",
       " Mean   :  8.343  \n",
       " 3rd Qu.:  8.000  \n",
       " Max.   :426.000  \n",
       "\n",
       "mining info:\n",
       "      data ntransactions support confidence\n",
       " Boston_tr           506   0.001        0.6\n",
       "                                                                           call\n",
       " apriori(data = Boston_tr, parameter = list(support = 0.001, confidence = 0.6))"
      ]
     },
     "metadata": {},
     "output_type": "display_data"
    },
    {
     "data": {
      "image/png": "[encoded data removed]",
      "text/plain": [
       "plot without title"
      ]
     },
     "metadata": {
      "image/png": {
       "height": 420,
       "width": 420
      }
     },
     "output_type": "display_data"
    }
   ],
   "source": [
    "#3b\n",
    "\n",
    "#Visualizing the data using the itemFrequencyPlot\n",
    "Boston_tr <- as(Boston,'transactions')\n",
    "itemFrequencyPlot(Boston_tr,support = 0.03, cex.names = 0.8 )\n",
    "\n",
    "#Applying the apriori algorithm\n",
    "rules <- apriori(Boston_tr, parameter = list(support = 0.001, confidence = 0.6))\n",
    "summary(rules)"
   ]
  },
  {
   "cell_type": "code",
   "execution_count": 18,
   "id": "e5dbcb2d",
   "metadata": {},
   "outputs": [
    {
     "data": {
      "text/plain": [
       "set of 8853 rules\n",
       "\n",
       "rule length distribution (lhs + rhs):sizes\n",
       "   2    3    4    5    6    7    8    9   10 \n",
       "   2   69  469 1439 2449 2448 1443  469   65 \n",
       "\n",
       "   Min. 1st Qu.  Median    Mean 3rd Qu.    Max. \n",
       "  2.000   6.000   6.000   6.498   7.000  10.000 \n",
       "\n",
       "summary of quality measures:\n",
       "    support           confidence        coverage             lift      \n",
       " Min.   :0.001976   Min.   :0.6000   Min.   :0.001976   Min.   :1.765  \n",
       " 1st Qu.:0.001976   1st Qu.:0.8750   1st Qu.:0.001976   1st Qu.:2.574  \n",
       " Median :0.005929   Median :1.0000   Median :0.005929   Median :2.942  \n",
       " Mean   :0.012016   Mean   :0.9237   Mean   :0.014980   Mean   :2.717  \n",
       " 3rd Qu.:0.011858   3rd Qu.:1.0000   3rd Qu.:0.013834   3rd Qu.:2.942  \n",
       " Max.   :0.278656   Max.   :1.0000   Max.   :0.462451   Max.   :2.942  \n",
       "     count       \n",
       " Min.   :  1.00  \n",
       " 1st Qu.:  1.00  \n",
       " Median :  3.00  \n",
       " Mean   :  6.08  \n",
       " 3rd Qu.:  6.00  \n",
       " Max.   :141.00  \n",
       "\n",
       "mining info:\n",
       "      data ntransactions support confidence\n",
       " Boston_tr           506   0.001        0.6\n",
       "                                                                           call\n",
       " apriori(data = Boston_tr, parameter = list(support = 0.001, confidence = 0.6))"
      ]
     },
     "metadata": {},
     "output_type": "display_data"
    },
    {
     "data": {
      "text/plain": [
       "set of 18187 rules\n",
       "\n",
       "rule length distribution (lhs + rhs):sizes\n",
       "   2    3    4    5    6    7    8    9   10 \n",
       "  14  186 1059 3058 5041 4942 2863  904  120 \n",
       "\n",
       "   Min. 1st Qu.  Median    Mean 3rd Qu.    Max. \n",
       "  2.000   6.000   6.000   6.444   7.000  10.000 \n",
       "\n",
       "summary of quality measures:\n",
       "    support           confidence        coverage             lift      \n",
       " Min.   :0.001976   Min.   :0.6981   Min.   :0.001976   Min.   :1.202  \n",
       " 1st Qu.:0.001976   1st Qu.:1.0000   1st Qu.:0.001976   1st Qu.:1.721  \n",
       " Median :0.005929   Median :1.0000   Median :0.005929   Median :1.721  \n",
       " Mean   :0.013560   Mean   :0.9881   Mean   :0.014125   Mean   :1.701  \n",
       " 3rd Qu.:0.013834   3rd Qu.:1.0000   3rd Qu.:0.013834   3rd Qu.:1.721  \n",
       " Max.   :0.470356   Max.   :1.0000   Max.   :0.606719   Max.   :1.721  \n",
       "     count        \n",
       " Min.   :  1.000  \n",
       " 1st Qu.:  1.000  \n",
       " Median :  3.000  \n",
       " Mean   :  6.862  \n",
       " 3rd Qu.:  7.000  \n",
       " Max.   :238.000  \n",
       "\n",
       "mining info:\n",
       "      data ntransactions support confidence\n",
       " Boston_tr           506   0.001        0.6\n",
       "                                                                           call\n",
       " apriori(data = Boston_tr, parameter = list(support = 0.001, confidence = 0.6))"
      ]
     },
     "metadata": {},
     "output_type": "display_data"
    },
    {
     "name": "stdout",
     "output_type": "stream",
     "text": [
      "    lhs                             rhs                     support confidence  coverage     lift count\n",
      "[1] {ptratio=mediam-sized-class} => {crim=very-low-crime} 0.4703557  0.9635628 0.4881423 1.658377   238\n",
      "[2] {rad=easily-accessible}      => {crim=very-low-crime} 0.4624506  0.7622150 0.6067194 1.311839   234\n",
      "[3] {rm=large-house,                                                                                   \n",
      "     ptratio=mediam-sized-class} => {crim=very-low-crime} 0.4090909  0.9764151 0.4189723 1.680497   207\n",
      "[4] {rm=large-house,                                                                                   \n",
      "     rad=easily-accessible}      => {crim=very-low-crime} 0.3972332  0.7821012 0.5079051 1.346065   201\n",
      "[5] {medv=moderate}              => {crim=very-low-crime} 0.3794466  0.7901235 0.4802372 1.359872   192\n",
      "[6] {rad=easily-accessible,                                                                            \n",
      "     ptratio=mediam-sized-class} => {crim=very-low-crime} 0.3517787  0.9888889 0.3557312 1.701965   178\n"
     ]
    },
    {
     "data": {
      "text/plain": [
       "set of 526 rules\n",
       "\n",
       "rule length distribution (lhs + rhs):sizes\n",
       "  3   4   5   6   7   8   9  10 \n",
       "  1  15  66 140 161 103  35   5 \n",
       "\n",
       "   Min. 1st Qu.  Median    Mean 3rd Qu.    Max. \n",
       "  3.000   6.000   7.000   6.747   8.000  10.000 \n",
       "\n",
       "summary of quality measures:\n",
       "    support           confidence        coverage             lift       \n",
       " Min.   :0.001976   Min.   :0.6000   Min.   :0.001976   Min.   : 7.989  \n",
       " 1st Qu.:0.003953   1st Qu.:0.8333   1st Qu.:0.004447   1st Qu.:11.096  \n",
       " Median :0.005929   Median :1.0000   Median :0.005929   Median :13.316  \n",
       " Mean   :0.008228   Mean   :0.9201   Mean   :0.009656   Mean   :12.251  \n",
       " 3rd Qu.:0.009881   3rd Qu.:1.0000   3rd Qu.:0.013834   3rd Qu.:13.316  \n",
       " Max.   :0.023715   Max.   :1.0000   Max.   :0.039526   Max.   :13.316  \n",
       "     count       \n",
       " Min.   : 1.000  \n",
       " 1st Qu.: 2.000  \n",
       " Median : 3.000  \n",
       " Mean   : 4.163  \n",
       " 3rd Qu.: 5.000  \n",
       " Max.   :12.000  \n",
       "\n",
       "mining info:\n",
       "      data ntransactions support confidence\n",
       " Boston_tr           506   0.001        0.6\n",
       "                                                                           call\n",
       " apriori(data = Boston_tr, parameter = list(support = 0.001, confidence = 0.6))"
      ]
     },
     "metadata": {},
     "output_type": "display_data"
    },
    {
     "name": "stdout",
     "output_type": "stream",
     "text": [
      "    lhs                                         rhs                  support confidence    coverage     lift count\n",
      "[1] {zn=small-residence,                                                                                          \n",
      "     dis=very-near,                                                                                               \n",
      "     tax=low-tax}                            => {crim=low-crime} 0.007905138          1 0.007905138 13.31579     4\n",
      "[2] {dis=very-near,                                                                                               \n",
      "     tax=low-tax,                                                                                                 \n",
      "     medv=expensive}                         => {crim=low-crime} 0.005928854          1 0.005928854 13.31579     3\n",
      "[3] {dis=very-near,                                                                                               \n",
      "     tax=low-tax,                                                                                                 \n",
      "     ptratio=small-class}                    => {crim=low-crime} 0.007905138          1 0.007905138 13.31579     4\n",
      "[4] {tax=low-tax,                                                                                                 \n",
      "     ptratio=small-class,                                                                                         \n",
      "     medv=moderate}                          => {crim=low-crime} 0.009881423          1 0.009881423 13.31579     5\n",
      "[5] {rm=very-large-house,                                                                                         \n",
      "     dis=very-near,                                                                                               \n",
      "     tax=low-tax}                            => {crim=low-crime} 0.005928854          1 0.005928854 13.31579     3\n",
      "[6] {indus=very-low-business-concentration,                                                                       \n",
      "     dis=very-near,                                                                                               \n",
      "     tax=low-tax}                            => {crim=low-crime} 0.007905138          1 0.007905138 13.31579     4\n"
     ]
    }
   ],
   "source": [
    "#3c\n",
    "\n",
    "#Extracting rules in which the right-hand side (rhs) is \"tax=low-tax\" and the lift is greater than 1.2\n",
    "rules_LowTax <- subset(rules, subset = rhs %in% \"tax=low-tax\" & lift > 1.2)\n",
    "\n",
    "#Extracting rules in which the right-hand side (rhs) is \"crim=very-low-crime\" and the lift is greater than 1.2\n",
    "rules_LowCrime <- subset(rules, subset = rhs %in% \"crim=very-low-crime\" & lift > 1.2)\n",
    "\n",
    "#Printing a summary of 'rules_LowTax'\n",
    "summary(rules_LowTax)\n",
    "\n",
    "#Printing a summary of 'rules_LowCrime'\n",
    "summary(rules_LowCrime)\n",
    "\n",
    "#Inspecting the first few rules from 'rules_LowCrime,' sorted in ascending order\n",
    "inspect(head(sort(rules_LowCrime)))\n",
    "\n",
    "#Extracting rules in which the right-hand side (rhs) is \"crim=low-crime\", the left-hand side (lhs) is \"tax=low-tax\", and the lift is greater than 1.2\n",
    "rulesLowCrimeLowTax <- subset(rules, subset = rhs %in% \"crim=low-crime\" & lhs %in% \"tax=low-tax\" & lift > 1.2)\n",
    "\n",
    "#Printing a summary of 'rulesLowCrimeLowTax'\n",
    "summary(rulesLowCrimeLowTax)\n",
    "\n",
    "#Inspecting the top 6 rules from 'rulesLowCrimeLowTax,' which is sorted by lift in descending order\n",
    "inspect(head(sort(rulesLowCrimeLowTax, by = 'lift'), n = 6))"
   ]
  },
  {
   "cell_type": "code",
   "execution_count": null,
   "id": "33cac7a2",
   "metadata": {},
   "outputs": [],
   "source": [
    "#3c Based on the output, the student should move to number 1, as it is in close proximity, has low taxes and is a small-sized residence."
   ]
  },
  {
   "cell_type": "code",
   "execution_count": 19,
   "id": "5de1cb01",
   "metadata": {},
   "outputs": [
    {
     "data": {
      "text/plain": [
       "set of 3340 rules\n",
       "\n",
       "rule length distribution (lhs + rhs):sizes\n",
       "  3   4   5   6   7   8   9  10 \n",
       " 26 190 590 959 903 501 152  19 \n",
       "\n",
       "   Min. 1st Qu.  Median    Mean 3rd Qu.    Max. \n",
       "  3.000   6.000   6.000   6.416   7.000  10.000 \n",
       "\n",
       "summary of quality measures:\n",
       "    support           confidence        coverage             lift      \n",
       " Min.   :0.001976   Min.   :0.6000   Min.   :0.001976   Min.   :5.234  \n",
       " 1st Qu.:0.003953   1st Qu.:1.0000   1st Qu.:0.003953   1st Qu.:8.724  \n",
       " Median :0.005929   Median :1.0000   Median :0.005929   Median :8.724  \n",
       " Mean   :0.009602   Mean   :0.9387   Mean   :0.010931   Mean   :8.189  \n",
       " 3rd Qu.:0.009881   3rd Qu.:1.0000   3rd Qu.:0.013834   3rd Qu.:8.724  \n",
       " Max.   :0.059289   Max.   :1.0000   Max.   :0.098814   Max.   :8.724  \n",
       "     count       \n",
       " Min.   : 1.000  \n",
       " 1st Qu.: 2.000  \n",
       " Median : 3.000  \n",
       " Mean   : 4.858  \n",
       " 3rd Qu.: 5.000  \n",
       " Max.   :30.000  \n",
       "\n",
       "mining info:\n",
       "      data ntransactions support confidence\n",
       " Boston_tr           506   0.001        0.6\n",
       "                                                                           call\n",
       " apriori(data = Boston_tr, parameter = list(support = 0.001, confidence = 0.6))"
      ]
     },
     "metadata": {},
     "output_type": "display_data"
    },
    {
     "name": "stdout",
     "output_type": "stream",
     "text": [
      "    lhs                                         rhs                       support confidence    coverage     lift count\n",
      "[1] {crim=low-crime,                                                                                                   \n",
      "     zn=small-residence}                     => {ptratio=small-class} 0.023715415          1 0.023715415 8.724138    12\n",
      "[2] {zn=small-residence,                                                                                               \n",
      "     dis=very-near}                          => {ptratio=small-class} 0.007905138          1 0.007905138 8.724138     4\n",
      "[3] {crim=low-crime,                                                                                                   \n",
      "     indus=very-low-business-concentration}  => {ptratio=small-class} 0.023715415          1 0.023715415 8.724138    12\n",
      "[4] {crim=low-crime,                                                                                                   \n",
      "     tax=low-tax}                            => {ptratio=small-class} 0.023715415          1 0.023715415 8.724138    12\n",
      "[5] {indus=very-low-business-concentration,                                                                            \n",
      "     dis=very-near}                          => {ptratio=small-class} 0.007905138          1 0.007905138 8.724138     4\n",
      "[6] {rm=small-house,                                                                                                   \n",
      "     dis=very-near,                                                                                                    \n",
      "     tax=moderate-tax}                       => {ptratio=small-class} 0.003952569          1 0.003952569 8.724138     2\n"
     ]
    }
   ],
   "source": [
    "#3d\n",
    "\n",
    "#Subsetting the 'rules' dataframe to select the rules with a right-hand side (rhs) of \"ptratio=small-class\" and a lift greater than 1.2\n",
    "rulesLowPupil_TeacherRatio <- subset(rules, subset = rhs %in% \"ptratio=small-class\" & lift > 1.2)\n",
    "\n",
    "#Calculating the summary statistics of the subsetted rules\n",
    "summary(rulesLowPupil_TeacherRatio)\n",
    "\n",
    "#Inspecting the head (first few) of the subsetted rules, sorted by lift in descending order\n",
    "inspect(head(sort(rulesLowPupil_TeacherRatio, by = 'lift'), n = 6))"
   ]
  },
  {
   "cell_type": "code",
   "execution_count": null,
   "id": "f594f25c",
   "metadata": {},
   "outputs": [],
   "source": [
    "#3d Number 1 is a small residence, with low crime and a low student-to-teacher ratio, which is ideal for this family in accordance with the information provided."
   ]
  }
 ],
 "metadata": {
  "kernelspec": {
   "display_name": "R",
   "language": "R",
   "name": "ir"
  },
  "language_info": {
   "codemirror_mode": "r",
   "file_extension": ".r",
   "mimetype": "text/x-r-source",
   "name": "R",
   "pygments_lexer": "r",
   "version": "4.1.3"
  }
 },
 "nbformat": 4,
 "nbformat_minor": 5
}
